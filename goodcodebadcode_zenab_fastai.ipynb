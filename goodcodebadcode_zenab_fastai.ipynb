{
  "nbformat": 4,
  "nbformat_minor": 0,
  "metadata": {
    "colab": {
      "name": "goodcodebadcode-zenab-fastai.ipynb",
      "provenance": [],
      "collapsed_sections": [
        "VPMhzXI9uTFH"
      ],
      "include_colab_link": true
    },
    "kernelspec": {
      "display_name": "Python 3",
      "language": "python",
      "name": "python3"
    },
    "language_info": {
      "codemirror_mode": {
        "name": "ipython",
        "version": 3
      },
      "file_extension": ".py",
      "mimetype": "text/x-python",
      "name": "python",
      "nbconvert_exporter": "python",
      "pygments_lexer": "ipython3",
      "version": "3.6.10"
    },
    "accelerator": "GPU"
  },
  "cells": [
    {
      "cell_type": "markdown",
      "metadata": {
        "id": "view-in-github",
        "colab_type": "text"
      },
      "source": [
        "<a href=\"https://colab.research.google.com/github/lfendy/goodcodebadcode/blob/master/goodcodebadcode_zenab_fastai.ipynb\" target=\"_parent\"><img src=\"https://colab.research.google.com/assets/colab-badge.svg\" alt=\"Open In Colab\"/></a>"
      ]
    },
    {
      "cell_type": "markdown",
      "metadata": {
        "id": "sXuWZybLHEW9",
        "colab_type": "text"
      },
      "source": [
        "# Setup with files already in Gdrive"
      ]
    },
    {
      "cell_type": "markdown",
      "metadata": {
        "id": "fZlw2QKMvnBl",
        "colab_type": "text"
      },
      "source": [
        "Mounting gdrive to persist data in Google Drive"
      ]
    },
    {
      "cell_type": "code",
      "metadata": {
        "colab_type": "code",
        "id": "R8BZCxJ2HarR",
        "colab": {
          "base_uri": "https://localhost:8080/",
          "height": 121
        },
        "outputId": "e1df9d61-2c0f-4f50-ace3-2d3efcbbff27"
      },
      "source": [
        "from google.colab import drive\n",
        "drive.mount('/content/gdrive', force_remount=True)\n",
        "root_dir = \"/content/gdrive/Shared drives/Cash Eng /ML Infrastructure/05 passion projects/goodcodebadcode/\"\n",
        "base_dir = root_dir + 'fastai-v3/'"
      ],
      "execution_count": 1,
      "outputs": [
        {
          "output_type": "stream",
          "text": [
            "Go to this URL in a browser: https://accounts.google.com/o/oauth2/auth?client_id=947318989803-6bn6qk8qdgf4n4g3pfee6491hc0brc4i.apps.googleusercontent.com&redirect_uri=urn%3aietf%3awg%3aoauth%3a2.0%3aoob&response_type=code&scope=email%20https%3a%2f%2fwww.googleapis.com%2fauth%2fdocs.test%20https%3a%2f%2fwww.googleapis.com%2fauth%2fdrive%20https%3a%2f%2fwww.googleapis.com%2fauth%2fdrive.photos.readonly%20https%3a%2f%2fwww.googleapis.com%2fauth%2fpeopleapi.readonly\n",
            "\n",
            "Enter your authorization code:\n",
            "··········\n",
            "Mounted at /content/gdrive\n"
          ],
          "name": "stdout"
        }
      ]
    },
    {
      "cell_type": "markdown",
      "metadata": {
        "id": "JA7awHITGf_l",
        "colab_type": "text"
      },
      "source": [
        "###Setting up fastai in the active colab session and importing useful libraries"
      ]
    },
    {
      "cell_type": "code",
      "metadata": {
        "colab_type": "code",
        "id": "SiHKo_mOHvQU",
        "colab": {
          "base_uri": "https://localhost:8080/",
          "height": 50
        },
        "outputId": "c26c95f6-9ac6-4b5d-a348-137c00103165"
      },
      "source": [
        " !curl -s https://course.fast.ai/setup/colab | bash"
      ],
      "execution_count": 2,
      "outputs": [
        {
          "output_type": "stream",
          "text": [
            "Updating fastai...\n",
            "Done.\n"
          ],
          "name": "stdout"
        }
      ]
    },
    {
      "cell_type": "code",
      "metadata": {
        "colab_type": "code",
        "id": "Bic5ZVPpH1A-",
        "colab": {}
      },
      "source": [
        "from fastai.text import *\n",
        "import pandas as pd\n",
        "import numpy as np\n",
        "import matplotlib.pyplot as plt"
      ],
      "execution_count": 3,
      "outputs": []
    },
    {
      "cell_type": "code",
      "metadata": {
        "colab_type": "code",
        "id": "yxNv1TMjHykr",
        "colab": {}
      },
      "source": [
        "%reload_ext autoreload\n",
        "%autoreload 2\n",
        "%matplotlib inline"
      ],
      "execution_count": 4,
      "outputs": []
    },
    {
      "cell_type": "markdown",
      "metadata": {
        "id": "XobPjTQKYVyY",
        "colab_type": "text"
      },
      "source": [
        "### Data Transformation"
      ]
    },
    {
      "cell_type": "code",
      "metadata": {
        "id": "SJJ2bnUPblW3",
        "colab_type": "code",
        "colab": {
          "base_uri": "https://localhost:8080/",
          "height": 34
        },
        "outputId": "3f046e55-bb9a-45cf-d33d-56e1af067ae4"
      },
      "source": [
        "# loading the parquet file into a dataframe\n",
        "path = \"/content/gdrive/Shared drives/Cash Eng /ML Infrastructure/05 passion projects/goodcodebadcode/data\"\n",
        "%cd /content/gdrive/Shared drives/Cash Eng /ML Infrastructure/05 passion projects/goodcodebadcode/data\n",
        "df = pd.read_parquet('gcbc_data_all.parquet.gzip')"
      ],
      "execution_count": 6,
      "outputs": [
        {
          "output_type": "stream",
          "text": [
            "/content/gdrive/Shared drives/Cash Eng /ML Infrastructure/05 passion projects/goodcodebadcode/data\n"
          ],
          "name": "stdout"
        }
      ]
    },
    {
      "cell_type": "code",
      "metadata": {
        "id": "QYcFapszPTXt",
        "colab_type": "code",
        "colab": {
          "base_uri": "https://localhost:8080/",
          "height": 402
        },
        "outputId": "d2460803-04b9-4b4a-9064-f134f6c50693"
      },
      "source": [
        "df.rename(columns = {\"Language\": \"label\", \"Content\": \"text\"}, inplace = True)\n",
        "df"
      ],
      "execution_count": 7,
      "outputs": [
        {
          "output_type": "execute_result",
          "data": {
            "text/html": [
              "<div>\n",
              "<style scoped>\n",
              "    .dataframe tbody tr th:only-of-type {\n",
              "        vertical-align: middle;\n",
              "    }\n",
              "\n",
              "    .dataframe tbody tr th {\n",
              "        vertical-align: top;\n",
              "    }\n",
              "\n",
              "    .dataframe thead th {\n",
              "        text-align: right;\n",
              "    }\n",
              "</style>\n",
              "<table border=\"1\" class=\"dataframe\">\n",
              "  <thead>\n",
              "    <tr style=\"text-align: right;\">\n",
              "      <th></th>\n",
              "      <th>label</th>\n",
              "      <th>text</th>\n",
              "    </tr>\n",
              "  </thead>\n",
              "  <tbody>\n",
              "    <tr>\n",
              "      <th>0</th>\n",
              "      <td>typescript</td>\n",
              "      <td>/**\\n * Internal dependencies\\n */\\nimport con...</td>\n",
              "    </tr>\n",
              "    <tr>\n",
              "      <th>1</th>\n",
              "      <td>typescript</td>\n",
              "      <td>import { produce } from 'immer';\\n\\nimport { m...</td>\n",
              "    </tr>\n",
              "    <tr>\n",
              "      <th>2</th>\n",
              "      <td>typescript</td>\n",
              "      <td>/**\\n * External dependencies\\n */\\nimport typ...</td>\n",
              "    </tr>\n",
              "    <tr>\n",
              "      <th>3</th>\n",
              "      <td>typescript</td>\n",
              "      <td>/**\\n * External Dependencies\\n */\\nimport { R...</td>\n",
              "    </tr>\n",
              "    <tr>\n",
              "      <th>4</th>\n",
              "      <td>typescript</td>\n",
              "      <td>// Local files\\nimport { TitleResponseData, Ca...</td>\n",
              "    </tr>\n",
              "    <tr>\n",
              "      <th>...</th>\n",
              "      <td>...</td>\n",
              "      <td>...</td>\n",
              "    </tr>\n",
              "    <tr>\n",
              "      <th>126919</th>\n",
              "      <td>ruby</td>\n",
              "      <td>require 'cocoapods/user_interface/error_report...</td>\n",
              "    </tr>\n",
              "    <tr>\n",
              "      <th>126920</th>\n",
              "      <td>ruby</td>\n",
              "      <td>require 'active_support/core_ext/hash/indiffer...</td>\n",
              "    </tr>\n",
              "    <tr>\n",
              "      <th>126921</th>\n",
              "      <td>ruby</td>\n",
              "      <td>require 'active_support/core_ext/array'\\nrequi...</td>\n",
              "    </tr>\n",
              "    <tr>\n",
              "      <th>126922</th>\n",
              "      <td>ruby</td>\n",
              "      <td>module Pod\\n  class Resolver\\n    # A small co...</td>\n",
              "    </tr>\n",
              "    <tr>\n",
              "      <th>126923</th>\n",
              "      <td>ruby</td>\n",
              "      <td>require 'delegate'\\nmodule Pod\\n  class Specif...</td>\n",
              "    </tr>\n",
              "  </tbody>\n",
              "</table>\n",
              "<p>126924 rows × 2 columns</p>\n",
              "</div>"
            ],
            "text/plain": [
              "             label                                               text\n",
              "0       typescript  /**\\n * Internal dependencies\\n */\\nimport con...\n",
              "1       typescript  import { produce } from 'immer';\\n\\nimport { m...\n",
              "2       typescript  /**\\n * External dependencies\\n */\\nimport typ...\n",
              "3       typescript  /**\\n * External Dependencies\\n */\\nimport { R...\n",
              "4       typescript  // Local files\\nimport { TitleResponseData, Ca...\n",
              "...            ...                                                ...\n",
              "126919        ruby  require 'cocoapods/user_interface/error_report...\n",
              "126920        ruby  require 'active_support/core_ext/hash/indiffer...\n",
              "126921        ruby  require 'active_support/core_ext/array'\\nrequi...\n",
              "126922        ruby  module Pod\\n  class Resolver\\n    # A small co...\n",
              "126923        ruby  require 'delegate'\\nmodule Pod\\n  class Specif...\n",
              "\n",
              "[126924 rows x 2 columns]"
            ]
          },
          "metadata": {
            "tags": []
          },
          "execution_count": 7
        }
      ]
    },
    {
      "cell_type": "code",
      "metadata": {
        "id": "Pmrn9SmaZMVA",
        "colab_type": "code",
        "colab": {}
      },
      "source": [
        "from sklearn.model_selection import train_test_split\n",
        "train_df, valid_df = train_test_split(df, test_size=0.2)"
      ],
      "execution_count": 8,
      "outputs": []
    },
    {
      "cell_type": "code",
      "metadata": {
        "id": "8JoamOHdgbzA",
        "colab_type": "code",
        "colab": {}
      },
      "source": [
        "# Language model data\n",
        "data_lm = TextLMDataBunch.from_df(path, train_df = train_df, valid_df = valid_df, test_df = None, label_cols = 0, text_cols = [\"text\"], no_check = True)"
      ],
      "execution_count": null,
      "outputs": []
    },
    {
      "cell_type": "code",
      "metadata": {
        "id": "C4uxzD6vZKJ-",
        "colab_type": "code",
        "colab": {
          "base_uri": "https://localhost:8080/",
          "height": 17
        },
        "outputId": "aeb57445-f6b6-49e7-d0d5-a97b1b615c2f"
      },
      "source": [
        "# Classifier model data\n",
        "data_clas = TextClasDataBunch.from_df(path, train_df=train_df, valid_df=valid_df, vocab=data_lm.train_ds.vocab, bs=32)"
      ],
      "execution_count": 20,
      "outputs": [
        {
          "output_type": "display_data",
          "data": {
            "text/html": [
              ""
            ],
            "text/plain": [
              "<IPython.core.display.HTML object>"
            ]
          },
          "metadata": {
            "tags": []
          }
        },
        {
          "output_type": "display_data",
          "data": {
            "text/html": [
              ""
            ],
            "text/plain": [
              "<IPython.core.display.HTML object>"
            ]
          },
          "metadata": {
            "tags": []
          }
        }
      ]
    },
    {
      "cell_type": "markdown",
      "metadata": {
        "id": "Rnu1NnXk_9TX",
        "colab_type": "text"
      },
      "source": [
        "Since this step can be a bit time-consuming, it's best to save the result with below command, this will create a 'tmp' directory where all the computed stuff will be stored."
      ]
    },
    {
      "cell_type": "code",
      "metadata": {
        "id": "JpneANW8YzBh",
        "colab_type": "code",
        "colab": {}
      },
      "source": [
        "data_lm.save('data_lm_export.pkl')\n",
        "data_clas.save('data_clas_export.pkl')"
      ],
      "execution_count": 22,
      "outputs": []
    },
    {
      "cell_type": "markdown",
      "metadata": {
        "id": "hMubzPxNACdJ",
        "colab_type": "text"
      },
      "source": [
        "We can then reload those results with:"
      ]
    },
    {
      "cell_type": "code",
      "metadata": {
        "id": "sngkZdEuYz2U",
        "colab_type": "code",
        "colab": {}
      },
      "source": [
        "data_lm = load_data(path, 'data_lm_export.pkl')\n",
        "data_clas = load_data(path, 'data_clas_export.pkl', bs=16)"
      ],
      "execution_count": 10,
      "outputs": []
    },
    {
      "cell_type": "markdown",
      "metadata": {
        "id": "n9JpdjemX7SS",
        "colab_type": "text"
      },
      "source": [
        "### Fine-tuning a language model"
      ]
    },
    {
      "cell_type": "code",
      "metadata": {
        "id": "sMUwMRYAY0FK",
        "colab_type": "code",
        "colab": {
          "base_uri": "https://localhost:8080/",
          "height": 94
        },
        "outputId": "a11bdfda-b211-4722-b66e-e1f08f08641d"
      },
      "source": [
        "learn = language_model_learner(data_lm, AWD_LSTM, drop_mult=0.5)\n",
        "learn.fit_one_cycle(1, 1e-2)"
      ],
      "execution_count": 24,
      "outputs": [
        {
          "output_type": "stream",
          "text": [
            "Downloading https://s3.amazonaws.com/fast-ai-modelzoo/wt103-fwd.tgz\n"
          ],
          "name": "stdout"
        },
        {
          "output_type": "display_data",
          "data": {
            "text/html": [
              ""
            ],
            "text/plain": [
              "<IPython.core.display.HTML object>"
            ]
          },
          "metadata": {
            "tags": []
          }
        },
        {
          "output_type": "display_data",
          "data": {
            "text/html": [
              "<table border=\"1\" class=\"dataframe\">\n",
              "  <thead>\n",
              "    <tr style=\"text-align: left;\">\n",
              "      <th>epoch</th>\n",
              "      <th>train_loss</th>\n",
              "      <th>valid_loss</th>\n",
              "      <th>accuracy</th>\n",
              "      <th>time</th>\n",
              "    </tr>\n",
              "  </thead>\n",
              "  <tbody>\n",
              "    <tr>\n",
              "      <td>0</td>\n",
              "      <td>2.844798</td>\n",
              "      <td>2.333905</td>\n",
              "      <td>0.554241</td>\n",
              "      <td>1:55:35</td>\n",
              "    </tr>\n",
              "  </tbody>\n",
              "</table>"
            ],
            "text/plain": [
              "<IPython.core.display.HTML object>"
            ]
          },
          "metadata": {
            "tags": []
          }
        }
      ]
    },
    {
      "cell_type": "code",
      "metadata": {
        "id": "WvEeCU5apntC",
        "colab_type": "code",
        "colab": {}
      },
      "source": [
        "learn_code = language_model_learner(data_lm, drop_mult=0.5)\n",
        "learn_code.fit_one_cycle(1, 1e-2)"
      ],
      "execution_count": null,
      "outputs": []
    },
    {
      "cell_type": "code",
      "metadata": {
        "id": "7qPC2OtsY0R3",
        "colab_type": "code",
        "colab": {
          "base_uri": "https://localhost:8080/",
          "height": 77
        },
        "outputId": "de55fa79-185e-403b-ca2b-e9c44a808aa1"
      },
      "source": [
        "learn.unfreeze()\n",
        "learn.fit_one_cycle(1, 1e-3)"
      ],
      "execution_count": 25,
      "outputs": [
        {
          "output_type": "display_data",
          "data": {
            "text/html": [
              "<table border=\"1\" class=\"dataframe\">\n",
              "  <thead>\n",
              "    <tr style=\"text-align: left;\">\n",
              "      <th>epoch</th>\n",
              "      <th>train_loss</th>\n",
              "      <th>valid_loss</th>\n",
              "      <th>accuracy</th>\n",
              "      <th>time</th>\n",
              "    </tr>\n",
              "  </thead>\n",
              "  <tbody>\n",
              "    <tr>\n",
              "      <td>0</td>\n",
              "      <td>1.796419</td>\n",
              "      <td>1.588605</td>\n",
              "      <td>0.686641</td>\n",
              "      <td>2:11:47</td>\n",
              "    </tr>\n",
              "  </tbody>\n",
              "</table>"
            ],
            "text/plain": [
              "<IPython.core.display.HTML object>"
            ]
          },
          "metadata": {
            "tags": []
          }
        }
      ]
    },
    {
      "cell_type": "markdown",
      "metadata": {
        "id": "hcJ7Wf3qaFsK",
        "colab_type": "text"
      },
      "source": [
        "To evaluate the language model, we can run the Learner.predict method and specify the number of words we want the model to guess."
      ]
    },
    {
      "cell_type": "code",
      "metadata": {
        "id": "GhSuBYXJY0dc",
        "colab_type": "code",
        "colab": {
          "base_uri": "https://localhost:8080/",
          "height": 35
        },
        "outputId": "073c7045-7c2d-4169-ef5f-a408f6eb9c19"
      },
      "source": [
        "learn.predict(\"fun sum(\", n_words=10)"
      ],
      "execution_count": 28,
      "outputs": [
        {
          "output_type": "execute_result",
          "data": {
            "application/vnd.google.colaboratory.intrinsic": {
              "type": "string"
            },
            "text/plain": [
              "'fun sum(a: Int, b : Int ) { \\n  this.id = i'"
            ]
          },
          "metadata": {
            "tags": []
          },
          "execution_count": 28
        }
      ]
    },
    {
      "cell_type": "markdown",
      "metadata": {
        "id": "zQ9RjmfEbRCD",
        "colab_type": "text"
      },
      "source": [
        "Note that it understands the vocab which comes from the pretrained language model.\n",
        "\n",
        "Finally we save the encoder to be able to use it for classification in the next section."
      ]
    },
    {
      "cell_type": "code",
      "metadata": {
        "id": "0qMhcogfY0pY",
        "colab_type": "code",
        "colab": {}
      },
      "source": [
        "learn.save_encoder('ft_enc')"
      ],
      "execution_count": 29,
      "outputs": []
    },
    {
      "cell_type": "markdown",
      "metadata": {
        "id": "MZAhUfbf0cOU",
        "colab_type": "text"
      },
      "source": [
        "### Building a classifier"
      ]
    },
    {
      "cell_type": "markdown",
      "metadata": {
        "id": "SgrJ-GGx1MYy",
        "colab_type": "text"
      },
      "source": [
        "We now use the data_clas object we created earlier to build a classifier with our fine-tuned encoder. The learner object can be done in a single line."
      ]
    },
    {
      "cell_type": "code",
      "metadata": {
        "id": "E4gPi73R0bg0",
        "colab_type": "code",
        "colab": {}
      },
      "source": [
        "learn = text_classifier_learner(data_clas, AWD_LSTM, drop_mult=0.5)\n",
        "learn.load_encoder('ft_enc')"
      ],
      "execution_count": null,
      "outputs": []
    },
    {
      "cell_type": "code",
      "metadata": {
        "id": "vxXhwoCF0bdH",
        "colab_type": "code",
        "colab": {
          "base_uri": "https://localhost:8080/",
          "height": 279
        },
        "outputId": "c91fe38b-b23e-4544-a5f8-6e857d819c30"
      },
      "source": [
        "data_clas.show_batch()"
      ],
      "execution_count": 31,
      "outputs": [
        {
          "output_type": "display_data",
          "data": {
            "text/html": [
              "<table border=\"1\" class=\"dataframe\">\n",
              "  <thead>\n",
              "    <tr style=\"text-align: right;\">\n",
              "      <th>text</th>\n",
              "      <th>target</th>\n",
              "    </tr>\n",
              "  </thead>\n",
              "  <tbody>\n",
              "    <tr>\n",
              "      <td>xxbos # ! / usr / bin / env node \\n  module.exports = / xxrep 6 * / ( function ( modules ) { \\n \\t  / / xxunk \\n \\t  / xxrep 6 * / / / xxmaj the module cache \\n \\t  / xxrep 6 * / var installedmodules = { } ; / / xxmaj the require function \\n \\t  / xxrep</td>\n",
              "      <td>javascript</td>\n",
              "    </tr>\n",
              "    <tr>\n",
              "      <td>xxbos / * * \\n  * xxmaj licensed to the xxmaj apache xxmaj software xxmaj foundation ( xxup asf ) under one \\n  * or more contributor license agreements . xxmaj see the xxup notice file \\n  * distributed with this work for additional information \\n  * regarding copyright ownership . xxmaj the xxup asf licenses this file \\n  * to you under the xxmaj</td>\n",
              "      <td>java</td>\n",
              "    </tr>\n",
              "    <tr>\n",
              "      <td>xxbos require xxmaj file.expand_path ( ' .. / .. / .. / spec_helper ' , _ _ xxup file _ _ ) \\n \\n  module xxmaj pod \\n  describe xxunk do # rubocop : disable xxmaj metrics / xxunk \\n  describe ' xxmaj analysis ' do # rubocop : disable xxmaj metrics / xxunk \\n  before do \\n  repos = [ xxmaj xxunk - repos</td>\n",
              "      <td>ruby</td>\n",
              "    </tr>\n",
              "    <tr>\n",
              "      <td>xxbos / * ! jquery xxunk | ( c ) 2005 , 2014 jquery xxmaj foundation , xxmaj inc. | jquery.org / license * / \\n  ! function(a , xxunk xxunk xxunk new xxunk requires a window with a xxunk xxunk xxunk : this , function(a , b){var xxunk = xxunk , e = xxunk , f = xxunk , g = xxunk , xxunk = xxunk , j</td>\n",
              "      <td>javascript</td>\n",
              "    </tr>\n",
              "    <tr>\n",
              "      <td>xxbos # -*- coding : utf-8 -*- # \\n  # frozen_string_literal : true \\n \\n  module xxmaj rouge \\n  module xxmaj lexers \\n  class xxup xxunk \\n  def xxunk \\n  @commands ||= xxmaj set.new [ \" abs \" , \" acos \" , \" actionids \" , \" xxunk \" , \" xxunk \" , \" xxunk \" , \" xxunk \" , \"</td>\n",
              "      <td>ruby</td>\n",
              "    </tr>\n",
              "  </tbody>\n",
              "</table>"
            ],
            "text/plain": [
              "<IPython.core.display.HTML object>"
            ]
          },
          "metadata": {
            "tags": []
          }
        }
      ]
    },
    {
      "cell_type": "code",
      "metadata": {
        "id": "6gGLa3xg0bZv",
        "colab_type": "code",
        "colab": {
          "base_uri": "https://localhost:8080/",
          "height": 77
        },
        "outputId": "d29a2027-67c3-4953-904e-0c344541e416"
      },
      "source": [
        "learn.fit_one_cycle(1, 1e-2)"
      ],
      "execution_count": 32,
      "outputs": [
        {
          "output_type": "display_data",
          "data": {
            "text/html": [
              "<table border=\"1\" class=\"dataframe\">\n",
              "  <thead>\n",
              "    <tr style=\"text-align: left;\">\n",
              "      <th>epoch</th>\n",
              "      <th>train_loss</th>\n",
              "      <th>valid_loss</th>\n",
              "      <th>accuracy</th>\n",
              "      <th>time</th>\n",
              "    </tr>\n",
              "  </thead>\n",
              "  <tbody>\n",
              "    <tr>\n",
              "      <td>0</td>\n",
              "      <td>0.036638</td>\n",
              "      <td>0.023630</td>\n",
              "      <td>0.991215</td>\n",
              "      <td>1:53:30</td>\n",
              "    </tr>\n",
              "  </tbody>\n",
              "</table>"
            ],
            "text/plain": [
              "<IPython.core.display.HTML object>"
            ]
          },
          "metadata": {
            "tags": []
          }
        }
      ]
    },
    {
      "cell_type": "markdown",
      "metadata": {
        "id": "bMMYFYqc1YNT",
        "colab_type": "text"
      },
      "source": [
        "We are unfreezing the last two modules and fine tuning it"
      ]
    },
    {
      "cell_type": "code",
      "metadata": {
        "id": "5wyRANlN0bXZ",
        "colab_type": "code",
        "colab": {}
      },
      "source": [
        "learn.freeze_to(-2)\n",
        "learn.fit_one_cycle(1, slice(5e-3/2., 5e-3))"
      ],
      "execution_count": null,
      "outputs": []
    },
    {
      "cell_type": "markdown",
      "metadata": {
        "id": "gHT8a46l2FZw",
        "colab_type": "text"
      },
      "source": [
        "Unfreezing all of it and fine tuning again"
      ]
    },
    {
      "cell_type": "code",
      "metadata": {
        "id": "CJMDIvb90bUI",
        "colab_type": "code",
        "colab": {}
      },
      "source": [
        "learn.unfreeze()\n",
        "learn.fit_one_cycle(1, slice(2e-3/100, 2e-3))"
      ],
      "execution_count": null,
      "outputs": []
    },
    {
      "cell_type": "markdown",
      "metadata": {
        "id": "4DeVFPCc2RCH",
        "colab_type": "text"
      },
      "source": [
        "We can now try predicting using raw data"
      ]
    },
    {
      "cell_type": "code",
      "metadata": {
        "id": "PGYAyfdM0bRA",
        "colab_type": "code",
        "colab": {
          "base_uri": "https://localhost:8080/",
          "height": 67
        },
        "outputId": "a19dd433-6a0e-411f-91b9-462a53b5dfd0"
      },
      "source": [
        "learn.predict(\"fun sum(a: Int, b: Int): Int { return a + b }\")"
      ],
      "execution_count": 33,
      "outputs": [
        {
          "output_type": "execute_result",
          "data": {
            "text/plain": [
              "(Category tensor(2),\n",
              " tensor(2),\n",
              " tensor([3.9778e-04, 2.4990e-07, 9.9960e-01, 1.7361e-08, 2.0405e-07]))"
            ]
          },
          "metadata": {
            "tags": []
          },
          "execution_count": 33
        }
      ]
    }
  ]
}
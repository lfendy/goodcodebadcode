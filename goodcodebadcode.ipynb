{
  "nbformat": 4,
  "nbformat_minor": 0,
  "metadata": {
    "colab": {
      "name": "goodcodebadcode.ipynb",
      "provenance": [],
      "collapsed_sections": [
        "VPMhzXI9uTFH"
      ],
      "include_colab_link": true
    },
    "kernelspec": {
      "display_name": "Python 3",
      "language": "python",
      "name": "python3"
    },
    "language_info": {
      "codemirror_mode": {
        "name": "ipython",
        "version": 3
      },
      "file_extension": ".py",
      "mimetype": "text/x-python",
      "name": "python",
      "nbconvert_exporter": "python",
      "pygments_lexer": "ipython3",
      "version": "3.6.10"
    }
  },
  "cells": [
    {
      "cell_type": "markdown",
      "metadata": {
        "id": "view-in-github",
        "colab_type": "text"
      },
      "source": [
        "<a href=\"https://colab.research.google.com/github/lfendy/goodcodebadcode/blob/master/goodcodebadcode.ipynb\" target=\"_parent\"><img src=\"https://colab.research.google.com/assets/colab-badge.svg\" alt=\"Open In Colab\"/></a>"
      ]
    },
    {
      "cell_type": "markdown",
      "metadata": {
        "colab_type": "text",
        "id": "VPMhzXI9uTFH"
      },
      "source": [
        "# Setup"
      ]
    },
    {
      "cell_type": "markdown",
      "metadata": {
        "colab_type": "text",
        "id": "fZlw2QKMvnBl"
      },
      "source": [
        "Mounting gdrive to persist data in Google Drive"
      ]
    },
    {
      "cell_type": "code",
      "metadata": {
        "colab_type": "code",
        "id": "8f3LDcczuYbS",
        "colab": {
          "base_uri": "https://localhost:8080/",
          "height": 122
        },
        "outputId": "0fc4a165-9daf-4bb1-f263-38ded79d0eb2"
      },
      "source": [
        "from google.colab import drive\n",
        "drive.mount('/content/gdrive', force_remount=True)\n",
        "root_dir = \"/content/gdrive/Shared drives/Cash Eng /ML Infrastructure/05 passion projects/goodcodebadcode/\"\n",
        "base_dir = root_dir + 'fastai-v3/'"
      ],
      "execution_count": 1,
      "outputs": [
        {
          "output_type": "stream",
          "text": [
            "Go to this URL in a browser: https://accounts.google.com/o/oauth2/auth?client_id=947318989803-6bn6qk8qdgf4n4g3pfee6491hc0brc4i.apps.googleusercontent.com&redirect_uri=urn%3aietf%3awg%3aoauth%3a2.0%3aoob&response_type=code&scope=email%20https%3a%2f%2fwww.googleapis.com%2fauth%2fdocs.test%20https%3a%2f%2fwww.googleapis.com%2fauth%2fdrive%20https%3a%2f%2fwww.googleapis.com%2fauth%2fdrive.photos.readonly%20https%3a%2f%2fwww.googleapis.com%2fauth%2fpeopleapi.readonly\n",
            "\n",
            "Enter your authorization code:\n",
            "··········\n",
            "Mounted at /content/gdrive\n"
          ],
          "name": "stdout"
        }
      ]
    },
    {
      "cell_type": "markdown",
      "metadata": {
        "colab_type": "text",
        "id": "kNagUD4Uv0mT"
      },
      "source": [
        "Setting up fastai and importing other required libraries"
      ]
    },
    {
      "cell_type": "code",
      "metadata": {
        "colab_type": "code",
        "id": "WqodzaTCuYPt",
        "colab": {
          "base_uri": "https://localhost:8080/",
          "height": 51
        },
        "outputId": "775c46e3-b743-4d64-8dde-1cb0e450b063"
      },
      "source": [
        " !curl -s https://course.fast.ai/setup/colab | bash"
      ],
      "execution_count": 2,
      "outputs": [
        {
          "output_type": "stream",
          "text": [
            "Updating fastai...\n",
            "Done.\n"
          ],
          "name": "stdout"
        }
      ]
    },
    {
      "cell_type": "code",
      "metadata": {
        "colab_type": "code",
        "id": "oD8npKHTvRyR",
        "colab": {}
      },
      "source": [
        "%reload_ext autoreload\n",
        "%autoreload 2\n",
        "%matplotlib inline"
      ],
      "execution_count": 3,
      "outputs": []
    },
    {
      "cell_type": "code",
      "metadata": {
        "colab_type": "code",
        "id": "ppFw450quYos",
        "colab": {}
      },
      "source": [
        "from fastai.text import *\n",
        "import pandas as pd\n",
        "import numpy as np\n",
        "import matplotlib.pyplot as plt"
      ],
      "execution_count": 4,
      "outputs": []
    },
    {
      "cell_type": "markdown",
      "metadata": {
        "colab_type": "text",
        "id": "z9YNMDIR7ytf"
      },
      "source": [
        "create necessary directories to contain raw and labeled data"
      ]
    },
    {
      "cell_type": "code",
      "metadata": {
        "colab_type": "code",
        "id": "YGZ7IbLQTRb7",
        "colab": {}
      },
      "source": [
        "!mkdir -p data/raw\n",
        "!mkdir -p data/labeled"
      ],
      "execution_count": null,
      "outputs": []
    },
    {
      "cell_type": "markdown",
      "metadata": {
        "colab_type": "text",
        "id": "_bQpqVLVZZwK"
      },
      "source": [
        ""
      ]
    },
    {
      "cell_type": "markdown",
      "metadata": {
        "colab_type": "text",
        "id": "Ye3P9iXd4tBg"
      },
      "source": [
        "# Collect raw data (clone repositories)"
      ]
    },
    {
      "cell_type": "markdown",
      "metadata": {
        "colab_type": "text",
        "id": "RysAeFbUts1M"
      },
      "source": [
        "Use github to gather codebases:\n",
        "ruby:\n",
        "- https://github.com/rails/rails.git\n",
        "- https://github.com/eliotsykes/real-world-rails\n",
        "- https://github.com/jeromedalbert/real-world-sinatra\n",
        "- https://github.com/jeromedalbert/real-world-ruby-apps\n",
        "\n",
        "-  \"https://github.com/javan/whenever.git\",\n",
        "  \"https://github.com/jmettraux/rufus-scheduler.git\",\n",
        "  \"https://github.com/resque/resque-scheduler.git\",\n",
        "  \"https://github.com/Rykian/clockwork.git\",\n",
        "  \"https://github.com/ddollar/foreman.git\",\n",
        "  \"https://github.com/resque/resque.git\",\n",
        "  \"https://github.com/mperham/sidekiq.git\",\n",
        "  \"https://github.com/bbatsov/rubocop.git\",\n",
        "  \"https://github.com/premailer/premailer.git\",\n",
        "  \"https://github.com/Mange/roadie.git\",\n",
        "  \"https://github.com/busyloop/lolcat.git\",\n",
        "  \"https://github.com/Homebrew/brew.git\",\n",
        "  \"https://github.com/octopress/octopress.git\",\n",
        "  \"https://github.com/jekyll/jekyll.git\",\n",
        "  \"https://github.com/middleman/middleman.git\",\n",
        "  \"https://github.com/sass/sass.git\",\n",
        "  \"https://github.com/pry/pry.git\",\n",
        "  \"https://github.com/Gazler/githug.git\",\n",
        "  \"https://github.com/adamsanderson/qwandry.git\",\n",
        "  \"https://github.com/bkeepers/dotenv.git\",\n",
        "  \"https://github.com/grosser/smusher.git\",\n",
        "  \"https://github.com/grosser/ruco.git\",\n",
        "  \"https://github.com/ruby/rake.git\",\n",
        "  \"https://github.com/ruby/rdoc.git\",\n",
        "  \"https://github.com/jneen/rouge.git\",\n",
        "  \"https://github.com/rubychan/coderay.git\",\n",
        "  \"https://github.com/github/markup.git\",\n",
        "  \"https://github.com/gettalong/kramdown.git\",\n",
        "  \"https://github.com/haml/haml.git\",\n",
        "  \"https://github.com/troessner/reek.git\",\n",
        "  \"https://github.com/capistrano/capistrano.git\",\n",
        "  \"https://github.com/mina-deploy/mina.git\",\n",
        "  \"https://github.com/hashicorp/vagrant.git\",\n",
        "  \"https://github.com/puppetlabs/puppet.git\",\n",
        "  \"https://github.com/macournoyer/thin.git\",\n",
        "  \"https://github.com/defunkt/unicorn.git\",\n",
        "  \"https://github.com/puma/puma.git\",\n",
        "  \"https://github.com/chef/chef.git\",\n",
        "  \"https://github.com/presidentbeef/brakeman.git\",\n",
        "  \"https://github.com/alexreisner/geocoder.git\",\n",
        "  \"https://github.com/tmuxinator/tmuxinator.git\",\n",
        "  \"https://github.com/athityakumar/colorls.git\",\n",
        "  \"https://github.com/toy/image_optim.git\",\n",
        "  \"https://github.com/skywinder/github-changelog-generator.git\",\n",
        "  \"https://github.com/ryanb/ruby-warrior.git\",\n",
        "  \"https://github.com/mame/optcarrot.git\",\n",
        "  \"https://github.com/adamcooke/procodile.git\",\n",
        "  \"https://github.com/grosser/pru.git\",\n",
        "  \"https://github.com/pawurb/termit.git\",\n",
        "  \"https://github.com/JacobEvelyn/friends.git\",\n",
        "  \"https://github.com/weppos/whois.git\",\n",
        "  \"https://github.com/htty/htty.git\",\n",
        "  \"https://github.com/benbalter/word-to-markdown.git\",\n",
        "  \"https://github.com/xijo/reverse_markdown.git\",\n",
        "  \"https://github.com/jstrait/beats.git\",\n",
        "  \"https://github.com/pazdera/catpix.git\",\n",
        "  \"https://github.com/soffes/hue.git\",\n",
        "  \"https://github.com/johnnyt/cowsay.git\",\n",
        "  \"https://github.com/sferik/t.git\",\n",
        "  \"https://github.com/CocoaPods/CocoaPods.git\"\n",
        "\n",
        "javascript / typescript?\n",
        "- https://github.com/eliotsykes/real-world-ember\n",
        "- https://github.com/jeromedalbert/real-world-react-apps\n",
        "- https://github.com/tryghost/Ghost\n",
        "- https://github.com/ericf/open-marriage\n",
        "- https://github.com/thanpolas/nodeON\n",
        "- https://github.com/thanpolas/crude\n",
        "- https://github.com/NodeBB/NodeBB\n",
        "- https://github.com/emgram769/livechan-js\n",
        "- https://github.com/pencilblue/pencilblue\n",
        "- https://github.com/Actionhero/Actionhero\n",
        "- https://github.com/balderdashy/sails\n",
        "- https://github.com/abuiles/borrowers\n",
        "- https://github.com/emberjax/cast\n",
        "- https://github.com/gcollazo/ember-cli-addon-search\n",
        "- https://github.com/broerse/ember-cli-blog\n",
        "- https://github.com/givanse/ember-cli-simple-auth-devise\n",
        "- https://github.com/ember-cli/ember-cli-todos\n",
        "- https://github.com/stefanpenner/ember-jobs\n",
        "- https://github.com/ember-cli/ember-twiddle\n",
        "- https://github.com/ember-weekend/ember-weekend\n",
        "- https://github.com/emberobserver/client\n",
        "- https://github.com/abuiles/facturas-client\n",
        "- https://github.com/HospitalRun/hospitalrun-frontend\n",
        "- https://github.com/huboard/huboard-web\n",
        "- https://github.com/hummingbird-me/kitsu-tools\n",
        "- https://github.com/alisdair/team-time-zone\n",
        "- https://github.com/wordset/wordset-ui\n",
        "- https://github.com/1ven/do.git\n",
        "- https://github.com/Automattic/wp-calypso.git\n",
        "- https://github.com/DevAlien/dripr-ui.git\n",
        "- https://github.com/FormidableLabs/react-music.git\n",
        "- https://github.com/FormidableLabs/spectacle.git\n",
        "- https://github.com/HVF/franchise.git\n",
        "- https://github.com/Khan/perseus.git\n",
        "- https://github.com/KrateLabs/KrateLabs-App.git\n",
        "- https://github.com/LeoAJ/react-iTunes-search.git\n",
        "- https://github.com/SKempin/reactjs-tmdb-app.git\n",
        "- https://github.com/WebbyLab/itsquiz-wall.git\n",
        "- https://github.com/afghl/dribble-demo.git\n",
        "- https://github.com/afonsopacifer/react-pomodoro.git\n",
        "- https://github.com/andrewngu/sound-redux.git\n",
        "- https://github.com/antoinejaussoin/retro-board.git\n",
        "- https://github.com/benoitvallon/react-native-nw-react-calculator.git\n",
        "- https://github.com/browniefed/pdxlivebus.git\n",
        "- https://github.com/captbaritone/winamp2-js.git\n",
        "- https://github.com/chvin/react-tetris.git\n",
        "- https://github.com/docker/kitematic.git\n",
        "- https://github.com/dockunit/platform.git\n",
        "- https://github.com/echenley/react-news.git\n",
        "- https://github.com/fcsonline/react-transmission.git\n",
        "- https://github.com/feednext/feednext.git\n",
        "- https://github.com/fullstackreact/react-yelp-clone.git\n",
        "- https://github.com/getguesstimate/guesstimate-app.git\n",
        "- https://github.com/gothinkster/react-redux-realworld-example-app.git\n",
        "- https://github.com/gpbl/isomorphic500.git\n",
        "- https://github.com/guyellis/plant.git\n",
        "- https://github.com/hoppula/refire-forum.git\n",
        "- https://github.com/insin/lifequote.git\n",
        "- https://github.com/insin/react-hn.git\n",
        "- https://github.com/ismaelgt/english-accents-map.git\n",
        "- https://github.com/koodilehto/invoice-frontend.git\n",
        "- https://github.com/limichange/flex-editor.git\n",
        "- https://github.com/lkazberova/react-photo-feed.git\n",
        "- https://github.com/paulhoughton/mortgage-mobx.git\n",
        "- https://github.com/paulhoughton/mortgage.git\n",
        "- https://github.com/pearofducks/foodprocessor.git\n",
        "- https://github.com/pl12133/react-solitaire.git\n",
        "- https://github.com/project-bobon/bobonroastprofile.git\n",
        "- https://github.com/ritoplz/ritoplz.git\n",
        "- https://github.com/rwieruch/favesound-redux.git\n",
        "- https://github.com/skidding/flatris.git\n",
        "- https://github.com/skidding/illustrated-algorithms.git\n",
        "- https://github.com/sprintly/sprintly-ui.git\n",
        "- https://github.com/stevenhauser/i-have-to-return-some-videotapes.git\n",
        "- https://github.com/torontojs/torontojs.com.git\n",
        "- https://github.com/web-pal/react-trello-board.git\n",
        "- https://github.com/zeit/hyper.git\n",
        "- https://github.com/rwieruch/favesound-mobx\n",
        "\n",
        "\n",
        "kotlin / java:\n",
        "- https://github.com/square/okhttp\n",
        "- https://github.com/mockito/mockito\n",
        "- https://github.com/iluwatar/java-design-patterns\n",
        "- https://github.com/ReactiveX/RxJava\n",
        "- https://github.com/google/guava\n",
        "- https://github.com/spring-projects/spring-framework\n",
        "- https://github.com/elastic/elasticsearch\n",
        "- https://github.com/apache/commons-lang\n",
        "- https://github.com/apache/hadoop\n",
        "- https://github.com/JetBrains/kotlin\n",
        "- https://github.com/shadowsocks/shadowsocks-android\n",
        "- https://github.com/android/architecture-samples\n",
        "- https://github.com/square/leakcanary\n",
        "- https://github.com/ReactiveX/RxKotlin\n",
        "- https://github.com/InsertKoinIO/koin\n",
        "- https://github.com/ssseasonnn/RxDownload\n",
        "- https://github.com/dbacinski/Design-Patterns-In-Kotlin\n",
        "\n"
      ]
    },
    {
      "cell_type": "code",
      "metadata": {
        "colab_type": "code",
        "id": "QidObku3hy-F",
        "colab": {}
      },
      "source": [
        "\n",
        "remotes = [\n",
        "  #kotlin java\n",
        "  \"https://github.com/square/okhttp\",\n",
        "  #\"https://github.com/mockito/mockito\", #does not have a master \n",
        "  \"https://github.com/iluwatar/java-design-patterns\",\n",
        "  #\"https://github.com/ReactiveX/RxJava\", #does not have a master\n",
        "  \"https://github.com/google/guava\",\n",
        "  \"https://github.com/spring-projects/spring-framework\",\n",
        "  \"https://github.com/elastic/elasticsearch\",\n",
        "  \"https://github.com/apache/commons-lang\",\n",
        "  \"https://github.com/apache/hadoop\",\n",
        "  \"https://github.com/JetBrains/kotlin\",\n",
        "  \"https://github.com/shadowsocks/shadowsocks-android\",\n",
        "  \"https://github.com/android/architecture-samples\",\n",
        "  \"https://github.com/square/leakcanary\",\n",
        "  \"https://github.com/ReactiveX/RxKotlin\",\n",
        "  \"https://github.com/InsertKoinIO/koin\",\n",
        "  \"https://github.com/ssseasonnn/RxDownload\",\n",
        "  \"https://github.com/dbacinski/Design-Patterns-In-Kotlin\",\n",
        "  #rb\n",
        "  \"https://github.com/javan/whenever.git\",\n",
        "  \"https://github.com/jmettraux/rufus-scheduler.git\",\n",
        "  \"https://github.com/resque/resque-scheduler.git\",\n",
        "  \"https://github.com/Rykian/clockwork.git\",\n",
        "  \"https://github.com/ddollar/foreman.git\",\n",
        "  \"https://github.com/resque/resque.git\",\n",
        "  \"https://github.com/mperham/sidekiq.git\",\n",
        "  \"https://github.com/bbatsov/rubocop.git\",\n",
        "  \"https://github.com/premailer/premailer.git\",\n",
        "  \"https://github.com/Mange/roadie.git\",\n",
        "  \"https://github.com/busyloop/lolcat.git\",\n",
        "  \"https://github.com/Homebrew/brew.git\",\n",
        "  \"https://github.com/octopress/octopress.git\",\n",
        "  \"https://github.com/jekyll/jekyll.git\",\n",
        "  \"https://github.com/middleman/middleman.git\",\n",
        "  \"https://github.com/sass/sass.git\",\n",
        "  \"https://github.com/pry/pry.git\",\n",
        "  \"https://github.com/Gazler/githug.git\",\n",
        "  \"https://github.com/adamsanderson/qwandry.git\",\n",
        "  \"https://github.com/bkeepers/dotenv.git\",\n",
        "  \"https://github.com/grosser/smusher.git\",\n",
        "  \"https://github.com/grosser/ruco.git\",\n",
        "  \"https://github.com/ruby/rake.git\",\n",
        "  \"https://github.com/ruby/rdoc.git\",\n",
        "  \"https://github.com/jneen/rouge.git\",\n",
        "  \"https://github.com/rubychan/coderay.git\",\n",
        "  \"https://github.com/github/markup.git\",\n",
        "  \"https://github.com/gettalong/kramdown.git\",\n",
        "  \"https://github.com/haml/haml.git\",\n",
        "  \"https://github.com/troessner/reek.git\",\n",
        "  \"https://github.com/capistrano/capistrano.git\",\n",
        "  \"https://github.com/mina-deploy/mina.git\",\n",
        "  \"https://github.com/hashicorp/vagrant.git\",\n",
        "  \"https://github.com/puppetlabs/puppet.git\",\n",
        "  \"https://github.com/macournoyer/thin.git\",\n",
        "  \"https://github.com/defunkt/unicorn.git\",\n",
        "  \"https://github.com/puma/puma.git\",\n",
        "  \"https://github.com/chef/chef.git\",\n",
        "  \"https://github.com/presidentbeef/brakeman.git\",\n",
        "  \"https://github.com/alexreisner/geocoder.git\",\n",
        "  \"https://github.com/tmuxinator/tmuxinator.git\",\n",
        "  \"https://github.com/athityakumar/colorls.git\",\n",
        "  \"https://github.com/toy/image_optim.git\",\n",
        "  \"https://github.com/skywinder/github-changelog-generator.git\",\n",
        "  \"https://github.com/ryanb/ruby-warrior.git\",\n",
        "  \"https://github.com/mame/optcarrot.git\",\n",
        "  \"https://github.com/adamcooke/procodile.git\",\n",
        "  \"https://github.com/grosser/pru.git\",\n",
        "  \"https://github.com/pawurb/termit.git\",\n",
        "  \"https://github.com/JacobEvelyn/friends.git\",\n",
        "  \"https://github.com/weppos/whois.git\",\n",
        "  \"https://github.com/htty/htty.git\",\n",
        "  \"https://github.com/benbalter/word-to-markdown.git\",\n",
        "  \"https://github.com/xijo/reverse_markdown.git\",\n",
        "  \"https://github.com/jstrait/beats.git\",\n",
        "  \"https://github.com/pazdera/catpix.git\",\n",
        "  \"https://github.com/soffes/hue.git\",\n",
        "  \"https://github.com/johnnyt/cowsay.git\",\n",
        "  \"https://github.com/sferik/t.git\",\n",
        "  \"https://github.com/CocoaPods/CocoaPods.git\"\n",
        "  # js / ts\n",
        "  \"https://github.com/tryghost/Ghost\",\n",
        "  \"https://github.com/ericf/open-marriage\",\n",
        "  \"https://github.com/thanpolas/nodeON\",\n",
        "  \"https://github.com/thanpolas/crude\",\n",
        "  \"https://github.com/NodeBB/NodeBB\",\n",
        "  \"https://github.com/emgram769/livechan-js\",\n",
        "  \"https://github.com/pencilblue/pencilblue\",\n",
        "  \"https://github.com/Actionhero/Actionhero\",\n",
        "  \"https://github.com/balderdashy/sails\",\n",
        "  \"https://github.com/abuiles/borrowers\",\n",
        "  \"https://github.com/emberjax/cast\",\n",
        "  \"https://github.com/gcollazo/ember-cli-addon-search\",\n",
        "  \"https://github.com/broerse/ember-cli-blog\",\n",
        "  \"https://github.com/givanse/ember-cli-simple-auth-devise\",\n",
        "  \"https://github.com/ember-cli/ember-cli-todos\",\n",
        "  \"https://github.com/stefanpenner/ember-jobs\",\n",
        "  \"https://github.com/ember-cli/ember-twiddle\",\n",
        "  \"https://github.com/ember-weekend/ember-weekend\",\n",
        "  \"https://github.com/emberobserver/client\",\n",
        "  \"https://github.com/abuiles/facturas-client\",\n",
        "  \"https://github.com/HospitalRun/hospitalrun-frontend\",\n",
        "  \"https://github.com/huboard/huboard-web\",\n",
        "  \"https://github.com/hummingbird-me/kitsu-tools\",\n",
        "  \"https://github.com/alisdair/team-time-zone\",\n",
        "  \"https://github.com/wordset/wordset-ui\",\n",
        "  \"https://github.com/1ven/do.git\",\n",
        "  \"https://github.com/Automattic/wp-calypso.git\",\n",
        "  \"https://github.com/DevAlien/dripr-ui.git\",\n",
        "  \"https://github.com/FormidableLabs/react-music.git\",\n",
        "  \"https://github.com/FormidableLabs/spectacle.git\",\n",
        "  \"https://github.com/HVF/franchise.git\",\n",
        "  \"https://github.com/Khan/perseus.git\",\n",
        "  \"https://github.com/KrateLabs/KrateLabs-App.git\",\n",
        "  \"https://github.com/LeoAJ/react-iTunes-search.git\",\n",
        "  \"https://github.com/SKempin/reactjs-tmdb-app.git\",\n",
        "  \"https://github.com/WebbyLab/itsquiz-wall.git\",\n",
        "  \"https://github.com/afghl/dribble-demo.git\",\n",
        "  \"https://github.com/afonsopacifer/react-pomodoro.git\",\n",
        "  \"https://github.com/andrewngu/sound-redux.git\",\n",
        "  \"https://github.com/antoinejaussoin/retro-board.git\",\n",
        "  \"https://github.com/benoitvallon/react-native-nw-react-calculator.git\",\n",
        "  \"https://github.com/browniefed/pdxlivebus.git\",\n",
        "  \"https://github.com/captbaritone/winamp2-js.git\",\n",
        "  \"https://github.com/chvin/react-tetris.git\",\n",
        "  \"https://github.com/docker/kitematic.git\",\n",
        "  \"https://github.com/dockunit/platform.git\",\n",
        "  \"https://github.com/echenley/react-news.git\",\n",
        "  \"https://github.com/fcsonline/react-transmission.git\",\n",
        "  \"https://github.com/feednext/feednext.git\",\n",
        "  \"https://github.com/fullstackreact/react-yelp-clone.git\",\n",
        "  \"https://github.com/getguesstimate/guesstimate-app.git\",\n",
        "  \"https://github.com/gothinkster/react-redux-realworld-example-app.git\",\n",
        "  \"https://github.com/gpbl/isomorphic500.git\",\n",
        "  \"https://github.com/guyellis/plant.git\",\n",
        "  \"https://github.com/hoppula/refire-forum.git\",\n",
        "  \"https://github.com/insin/lifequote.git\",\n",
        "  \"https://github.com/insin/react-hn.git\",\n",
        "  \"https://github.com/ismaelgt/english-accents-map.git\",\n",
        "  \"https://github.com/koodilehto/invoice-frontend.git\",\n",
        "  \"https://github.com/limichange/flex-editor.git\",\n",
        "  \"https://github.com/lkazberova/react-photo-feed.git\",\n",
        "  \"https://github.com/paulhoughton/mortgage-mobx.git\",\n",
        "  \"https://github.com/paulhoughton/mortgage.git\",\n",
        "  \"https://github.com/pearofducks/foodprocessor.git\",\n",
        "  \"https://github.com/pl12133/react-solitaire.git\",\n",
        "  \"https://github.com/project-bobon/bobonroastprofile.git\",\n",
        "  \"https://github.com/ritoplz/ritoplz.git\",\n",
        "  \"https://github.com/rwieruch/favesound-redux.git\",\n",
        "  \"https://github.com/skidding/flatris.git\",\n",
        "  \"https://github.com/skidding/illustrated-algorithms.git\",\n",
        "  \"https://github.com/sprintly/sprintly-ui.git\",\n",
        "  \"https://github.com/stevenhauser/i-have-to-return-some-videotapes.git\",\n",
        "  \"https://github.com/torontojs/torontojs.com.git\",\n",
        "  \"https://github.com/web-pal/react-trello-board.git\",\n",
        "  \"https://github.com/zeit/hyper.git\",\n",
        "  \"https://github.com/rwieruch/favesound-mobx\"\n",
        "]\n",
        "\n"
      ],
      "execution_count": null,
      "outputs": []
    },
    {
      "cell_type": "code",
      "metadata": {
        "colab_type": "code",
        "id": "KfdZRcVLsYRt",
        "colab": {}
      },
      "source": [
        "\n",
        "# clone \n",
        "for src_url in remotes:\n",
        "  print(src_url)\n",
        "  !git -C data/raw clone --depth=1 --single-branch --branch=master $src_url\n",
        "\n"
      ],
      "execution_count": null,
      "outputs": []
    },
    {
      "cell_type": "code",
      "metadata": {
        "colab_type": "code",
        "id": "BpjVDd3sGr7a",
        "colab": {},
        "outputId": "ba1edd41-debf-4302-c2fc-602492cfb444"
      },
      "source": [
        "def get_dir_name(url_name):\n",
        "  return url_name.split('/')[-1].replace(\".git\", \"\")\n",
        "\n",
        "test_url = \"https://asdf/asdfasdfasdf/xzcvzxcv/vbnm.git\"\n",
        "print(\"vbnm should == \", get_dir_name(test_url))\n",
        "\n",
        "def get_ext(filename):\n",
        "  return filename.split('.')[-1]\n",
        "\n",
        "test_filename = \"asd/asd/f/sdafas/df/asdfsadfasdf/filename.extension\"\n",
        "print(\"extension should == \", get_ext(test_filename))\n"
      ],
      "execution_count": null,
      "outputs": [
        {
          "output_type": "stream",
          "text": [
            "vbnm should ==  vbnm\n",
            "extension should ==  extension\n"
          ],
          "name": "stdout"
        }
      ]
    },
    {
      "cell_type": "code",
      "metadata": {
        "colab_type": "code",
        "id": "JEo99YyGOQlE",
        "colab": {}
      },
      "source": [
        "# remove .git folders collect dir_names\n",
        "dir_names = []\n",
        "for src_url in remotes:\n",
        "  dir_name = get_dir_name(src_url)\n",
        "  print(dir_name)\n",
        "  dir_names.append(dir_name)\n",
        "  !rm -rf data/raw/$dir_name/.git"
      ],
      "execution_count": null,
      "outputs": []
    },
    {
      "cell_type": "markdown",
      "metadata": {
        "colab_type": "text",
        "id": "4G24QA7usYR2"
      },
      "source": [
        "```\n",
        "!find $src_loc -type f -name \"*.$ext\" | xargs -I%% echo -e \"%%\\n__snakeme__%%\" | sed '/__snakeme__/s/\\//_/g' | sed \"s@__snakeme__@$lang_loc@g\" | xargs -r -l2 -- cp -f\n",
        "```\n",
        "    # this is a hack:\n",
        "    # - find... will get us [\n",
        "    #   \"data/raw/project/folder1/folder2/somefile.kt\", \n",
        "    #   \"data/raw/project/folder3/someotherfile.kt\"]\n",
        "    ##### (this needs a duplicate, a marker for regex (__snakeme__) and a new line '\\n' so `sed` can replace '/' with '_' ONLY on relevant lines)\n",
        "    # - change to [\n",
        "    #   \"data/raw/project/folder1/folder2/somefile.kt\\n__snakeme__data/raw/project/folder1/folder2/somefile.kt\",\n",
        "    #   \"data/raw/project/folder3/someotherfile.kt\\n__snakeme__data/raw/project/folder3/someotherfile.kt\"]\n",
        "    #####\n",
        "    # - change to [\n",
        "    #   \"data/raw/project/folder1/folder2/somefile.kt\\n__snakeme__data_raw_project_folder1_folder2_somefile.kt\",\n",
        "    #   \"data/raw/project/folder3/someotherfile.kt\\n__snakeme__data_raw_project_folder3_someotherfile.kt\"]\n",
        "    #####\n",
        "    # - change to [\n",
        "    #   \"data/raw/project/folder1/folder2/somefile.kt\\ndata/labeled/data_raw_project_folder1_folder2_somefile.kt\",\n",
        "    #   \"data/raw/project/folder3/someotherfile.kt\\ndata/labeled/data_raw_project_folder3_someotherfile.kt\"]\n",
        "    #####\n",
        "    # - pass to `xargs` with:\n",
        "    #   -r: so we don't execute xargs if stream is empty\n",
        "    #   -l2: pass the arguments to xargs, 2 at a time\n",
        "    #   cp -f: copy force (overwrite always)"
      ]
    },
    {
      "cell_type": "code",
      "metadata": {
        "colab_type": "code",
        "id": "JdE8fS9vuRqE",
        "colab": {}
      },
      "source": [
        "dict_ext_to_lang = {\n",
        "  \"kt\": \"kotlin\",\n",
        "  \"java\": \"java\",\n",
        "  \"rb\": \"ruby\",\n",
        "  \"ts\": \"typescript\",\n",
        "  \"js\": \"javascript\"\n",
        "}\n",
        "\n",
        "raw_loc = \"data/raw/\"\n",
        "labeled_loc = \"data/labeled/\"\n",
        "\n",
        "# remove spaces from dir and remove spaces from filenames\n",
        "# try this next time: find /tmp/ -depth -name \"* *\" -execdir rename 's/ /_/g' \"{}\" \\;\n",
        "!find $raw_loc -name \"* *\" -type d | rename 's/ /_/g'    # do the directories first\n",
        "!find $raw_loc -name \"* *\" -type f | rename 's/ /_/g'\n",
        "\n",
        "# copy to appropriate language folders (flattened with path)\n",
        "for dir_name in dir_names:\n",
        "  print(dir_name)\n",
        "  for el in dict_ext_to_lang.items():\n",
        "    ext = el[0]\n",
        "    lang = el[1]\n",
        "    print(lang)\n",
        "    src_loc = raw_loc + dir_name\n",
        "    lang_loc = labeled_loc + lang + \"/\"\n",
        "    !mkdir -p $lang_loc    \n",
        "    !find $src_loc -type f -name \"*.$ext\" | xargs -I%% echo -e \"%%\\n__snakeme__%%\" | sed '/__snakeme__/s/\\//_/g' | sed \"s@__snakeme__@$lang_loc@g\" | xargs -r -l2 -- cp -f\n",
        "    print(lang + \" done\")\n",
        "  print(dir_name + \" done\")\n"
      ],
      "execution_count": null,
      "outputs": []
    },
    {
      "cell_type": "code",
      "metadata": {
        "colab_type": "code",
        "id": "4V9srceWtBvs",
        "colab": {
          "base_uri": "https://localhost:8080/",
          "height": 50
        },
        "outputId": "5129101b-b0b4-4364-a4e8-67a310cc26f2"
      },
      "source": [
        "%cd /content/gdrive/Shared drives/'Cash Eng '/ML Infrastructure/'05 passion projects'/goodcodebadcode\n",
        "%pwd"
      ],
      "execution_count": null,
      "outputs": [
        {
          "output_type": "stream",
          "text": [
            "/content/gdrive/Shared drives/Cash Eng /ML Infrastructure/05 passion projects/goodcodebadcode\n"
          ],
          "name": "stdout"
        },
        {
          "output_type": "execute_result",
          "data": {
            "text/plain": [
              "'/content/gdrive/Shared drives/Cash Eng /ML Infrastructure/05 passion projects/goodcodebadcode'"
            ]
          },
          "metadata": {
            "tags": []
          },
          "execution_count": 3
        }
      ]
    },
    {
      "cell_type": "code",
      "metadata": {
        "colab_type": "code",
        "id": "et46R-9JsYR8",
        "colab": {}
      },
      "source": [
        "!unzip data.zip"
      ],
      "execution_count": null,
      "outputs": []
    },
    {
      "cell_type": "markdown",
      "metadata": {
        "colab_type": "text",
        "id": "sXuWZybLHEW9"
      },
      "source": [
        "# Setup with files already in Gdrive"
      ]
    },
    {
      "cell_type": "code",
      "metadata": {
        "colab_type": "code",
        "id": "R8BZCxJ2HarR",
        "colab": {
          "base_uri": "https://localhost:8080/",
          "height": 34
        },
        "outputId": "0bee84bb-386b-45a6-c17b-c0863688fa1d"
      },
      "source": [
        "# Start from unzipped files in the gdrive\n",
        "from google.colab import drive\n",
        "drive.mount('/content/gdrive', force_remount=True)\n",
        "root_dir = \"/content/gdrive/Shared drives/Cash Eng /ML Infrastructure/05 passion projects/goodcodebadcode/\"\n",
        "base_dir = root_dir + 'fastai-v3/'"
      ],
      "execution_count": 5,
      "outputs": [
        {
          "output_type": "stream",
          "text": [
            "Mounted at /content/gdrive\n"
          ],
          "name": "stdout"
        }
      ]
    },
    {
      "cell_type": "code",
      "metadata": {
        "colab_type": "code",
        "id": "SiHKo_mOHvQU",
        "colab": {
          "base_uri": "https://localhost:8080/",
          "height": 51
        },
        "outputId": "544fa68d-514a-42c2-8af4-4d445922db01"
      },
      "source": [
        " !curl -s https://course.fast.ai/setup/colab | bash"
      ],
      "execution_count": 6,
      "outputs": [
        {
          "output_type": "stream",
          "text": [
            "Updating fastai...\n",
            "Done.\n"
          ],
          "name": "stdout"
        }
      ]
    },
    {
      "cell_type": "code",
      "metadata": {
        "colab_type": "code",
        "id": "yxNv1TMjHykr",
        "colab": {}
      },
      "source": [
        "%reload_ext autoreload\n",
        "%autoreload 2\n",
        "%matplotlib inline"
      ],
      "execution_count": 7,
      "outputs": []
    },
    {
      "cell_type": "code",
      "metadata": {
        "colab_type": "code",
        "id": "Bic5ZVPpH1A-",
        "colab": {}
      },
      "source": [
        "from fastai.text import *\n",
        "import pandas as pd\n",
        "import numpy as np\n",
        "import matplotlib.pyplot as plt"
      ],
      "execution_count": 8,
      "outputs": []
    },
    {
      "cell_type": "code",
      "metadata": {
        "colab_type": "code",
        "id": "iNvNtzraIV1G",
        "colab": {
          "base_uri": "https://localhost:8080/",
          "height": 51
        },
        "outputId": "d6ffe14b-f5ea-47c9-f4ba-a12052310f4c"
      },
      "source": [
        "%cd \"/content/gdrive/Shared drives/Cash Eng /ML Infrastructure/05 passion projects/goodcodebadcode/data/labeled\"\n",
        "%pwd\n",
        "%ls\n"
      ],
      "execution_count": 9,
      "outputs": [
        {
          "output_type": "stream",
          "text": [
            "/content/gdrive/Shared drives/Cash Eng /ML Infrastructure/05 passion projects/goodcodebadcode/data/labeled\n",
            "javascript.zip  java.zip  kotlin.zip  ruby.zip  typescript.zip\n"
          ],
          "name": "stdout"
        }
      ]
    },
    {
      "cell_type": "code",
      "metadata": {
        "id": "kQUJNwxKIIVu",
        "colab_type": "code",
        "colab": {},
        "outputId": "5bc5f511-0837-419b-ae99-4b931bb42618"
      },
      "source": [
        "# Locally label data\n",
        "root_dir = \"/code\"\n",
        "%pwd"
      ],
      "execution_count": null,
      "outputs": [
        {
          "output_type": "execute_result",
          "data": {
            "text/plain": [
              "'/code/data/labeled'"
            ]
          },
          "metadata": {
            "tags": []
          },
          "execution_count": 10
        }
      ]
    },
    {
      "cell_type": "code",
      "metadata": {
        "colab_type": "code",
        "id": "aLpYo5ZoIeFm",
        "colab": {
          "base_uri": "https://localhost:8080/",
          "height": 487
        },
        "outputId": "6e5d5092-1e1f-418e-f623-39948b36d45d"
      },
      "source": [
        "dict_ext_to_lang = {\n",
        "  \"kt\": \"kotlin\",\n",
        "  \"java\": \"java\",\n",
        "  \"rb\": \"ruby\",\n",
        "  \"ts\": \"typescript\",\n",
        "  \"js\": \"javascript\"\n",
        "}\n",
        "\n",
        "labeled_dir = root_dir + \"/data/labeled\"\n",
        "\n",
        "%cd $labeled_dir\n",
        "\n",
        "for ext in dict_ext_to_lang:\n",
        "    lang = dict_ext_to_lang[ext] \n",
        "    num_files = !ls $lang | wc -l\n",
        "    print(f'{lang}: {num_files}')"
      ],
      "execution_count": null,
      "outputs": [
        {
          "output_type": "stream",
          "text": [
            "/code/data/labeled\n",
            "kotlin: ['57869']\n",
            "java: ['38859']\n",
            "ruby: ['15481']\n",
            "typescript: ['1135']\n",
            "javascript: ['13585']\n"
          ],
          "name": "stdout"
        }
      ]
    },
    {
      "cell_type": "code",
      "metadata": {
        "colab_type": "code",
        "id": "Ze2uh--7Ir2m",
        "colab": {
          "base_uri": "https://localhost:8080/",
          "height": 54
        },
        "outputId": "07155085-5eb5-48b4-f3f8-26d18674a072"
      },
      "source": [
        "max_num_files = 90000;\n",
        "labeled_dirs = !find $labeled_dir -mindepth 1 -maxdepth 1 -type d\n",
        "print(labeled_dirs)\n",
        "\n",
        "data = []\n",
        "\n",
        "for lang_dir in labeled_dirs:\n",
        "    lang = get_dir_name(lang_dir)\n",
        "    lang_files = !find $lang_dir -type f -maxdepth 1 | head -n $max_num_files\n",
        "    #lang_files = !ls -dU $lang_dir/* | head -n $max_num_files\n",
        "    for lang_file in lang_files:\n",
        "        my_file = open(lang_file, 'r')\n",
        "        my_content = ''\n",
        "        try:\n",
        "            my_content = my_file.read()            \n",
        "            data.append([lang, my_content])\n",
        "        except UnicodeDecodeError:\n",
        "            print(lang_file)\n",
        "        my_file.close()\n",
        "\n"
      ],
      "execution_count": null,
      "outputs": [
        {
          "output_type": "stream",
          "text": [
            "['/code/data/labeled/typescript', '/code/data/labeled/java', '/code/data/labeled/kotlin', '/code/data/labeled/javascript', '/code/data/labeled/ruby']\n",
            "/code/data/labeled/javascript/raw_js_NodeBB_public_vendor_xregexp_unicode_unicode-base.js\n",
            "/code/data/labeled/javascript/raw_js_NodeBB_public_vendor_xregexp_unicode_unicode-blocks.js\n",
            "/code/data/labeled/javascript/raw_js_NodeBB_public_vendor_xregexp_unicode_unicode-categories.js\n",
            "/code/data/labeled/javascript/raw_js_NodeBB_public_vendor_xregexp_unicode_unicode-properties.js\n",
            "/code/data/labeled/javascript/raw_js_NodeBB_public_vendor_xregexp_unicode_unicode-scripts.js\n"
          ],
          "name": "stdout"
        }
      ]
    },
    {
      "cell_type": "code",
      "metadata": {
        "colab_type": "code",
        "id": "0PWE0TotKB6Q",
        "colab": {}
      },
      "source": [
        "import pandas as pd\n",
        "data\n",
        "df = pd.DataFrame(data, columns = ['Language', 'Content'])\n"
      ],
      "execution_count": null,
      "outputs": []
    },
    {
      "cell_type": "code",
      "metadata": {
        "id": "a7WWgy_AIIV3",
        "colab_type": "code",
        "colab": {}
      },
      "source": [
        "df.to_hdf('gcbc_data_all.h5', key='df', mode='w', complevel=9, complib='blosc:lz4hc') #this doesn't compress text\n",
        "\n",
        "df.to_parquet('gcbc_data_all.parquet.gzip', compression='gzip')"
      ],
      "execution_count": null,
      "outputs": []
    },
    {
      "cell_type": "code",
      "metadata": {
        "id": "7L4U15NIIIV6",
        "colab_type": "code",
        "colab": {},
        "outputId": "5762f3ae-6b97-4500-f926-112a13f99021"
      },
      "source": [
        ""
      ],
      "execution_count": null,
      "outputs": [
        {
          "output_type": "execute_result",
          "data": {
            "text/html": [
              "<div>\n",
              "<style scoped>\n",
              "    .dataframe tbody tr th:only-of-type {\n",
              "        vertical-align: middle;\n",
              "    }\n",
              "\n",
              "    .dataframe tbody tr th {\n",
              "        vertical-align: top;\n",
              "    }\n",
              "\n",
              "    .dataframe thead th {\n",
              "        text-align: right;\n",
              "    }\n",
              "</style>\n",
              "<table border=\"1\" class=\"dataframe\">\n",
              "  <thead>\n",
              "    <tr style=\"text-align: right;\">\n",
              "      <th></th>\n",
              "      <th>Language</th>\n",
              "      <th>Content</th>\n",
              "    </tr>\n",
              "  </thead>\n",
              "  <tbody>\n",
              "    <tr>\n",
              "      <th>0</th>\n",
              "      <td>typescript</td>\n",
              "      <td>/**\\n * Internal dependencies\\n */\\nimport con...</td>\n",
              "    </tr>\n",
              "    <tr>\n",
              "      <th>1</th>\n",
              "      <td>typescript</td>\n",
              "      <td>import { produce } from 'immer';\\n\\nimport { m...</td>\n",
              "    </tr>\n",
              "    <tr>\n",
              "      <th>2</th>\n",
              "      <td>java</td>\n",
              "      <td>/*\\n * Copyright 2017-2020 the original author...</td>\n",
              "    </tr>\n",
              "    <tr>\n",
              "      <th>3</th>\n",
              "      <td>java</td>\n",
              "      <td>package org.koin.java;\\n\\nimport kotlin.Lazy;\\...</td>\n",
              "    </tr>\n",
              "    <tr>\n",
              "      <th>4</th>\n",
              "      <td>kotlin</td>\n",
              "      <td>package org.koin.android.experimental.dsl\\n\\ni...</td>\n",
              "    </tr>\n",
              "    <tr>\n",
              "      <th>5</th>\n",
              "      <td>kotlin</td>\n",
              "      <td>package org.koin.android.experimental.dsl\\n\\ni...</td>\n",
              "    </tr>\n",
              "    <tr>\n",
              "      <th>6</th>\n",
              "      <td>javascript</td>\n",
              "      <td>(function() {\\n    // Functions\\n    // ======...</td>\n",
              "    </tr>\n",
              "    <tr>\n",
              "      <th>7</th>\n",
              "      <td>javascript</td>\n",
              "      <td>module.exports = {\\n    \"parserOptions\": {\\n  ...</td>\n",
              "    </tr>\n",
              "    <tr>\n",
              "      <th>8</th>\n",
              "      <td>ruby</td>\n",
              "      <td>require 'erb'\\nrequire 'ostruct'\\nrequire 'jav...</td>\n",
              "    </tr>\n",
              "    <tr>\n",
              "      <th>9</th>\n",
              "      <td>ruby</td>\n",
              "      <td>require 'erb'\\nrequire 'ostruct'\\nrequire 'jav...</td>\n",
              "    </tr>\n",
              "  </tbody>\n",
              "</table>\n",
              "</div>"
            ],
            "text/plain": [
              "     Language                                            Content\n",
              "0  typescript  /**\\n * Internal dependencies\\n */\\nimport con...\n",
              "1  typescript  import { produce } from 'immer';\\n\\nimport { m...\n",
              "2        java  /*\\n * Copyright 2017-2020 the original author...\n",
              "3        java  package org.koin.java;\\n\\nimport kotlin.Lazy;\\...\n",
              "4      kotlin  package org.koin.android.experimental.dsl\\n\\ni...\n",
              "5      kotlin  package org.koin.android.experimental.dsl\\n\\ni...\n",
              "6  javascript  (function() {\\n    // Functions\\n    // ======...\n",
              "7  javascript  module.exports = {\\n    \"parserOptions\": {\\n  ...\n",
              "8        ruby  require 'erb'\\nrequire 'ostruct'\\nrequire 'jav...\n",
              "9        ruby  require 'erb'\\nrequire 'ostruct'\\nrequire 'jav..."
            ]
          },
          "metadata": {
            "tags": []
          },
          "execution_count": 47
        }
      ]
    },
    {
      "cell_type": "code",
      "metadata": {
        "id": "Hl-a5DTCIIV9",
        "colab_type": "code",
        "colab": {}
      },
      "source": [
        ""
      ],
      "execution_count": null,
      "outputs": []
    }
  ]
}
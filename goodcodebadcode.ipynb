{
  "nbformat": 4,
  "nbformat_minor": 0,
  "metadata": {
    "colab": {
      "name": "goodcodebadcode.ipynb",
      "provenance": [],
      "collapsed_sections": [
        "VPMhzXI9uTFH"
      ],
      "include_colab_link": true
    },
    "kernelspec": {
      "display_name": "Python 3",
      "language": "python",
      "name": "python3"
    },
    "language_info": {
      "codemirror_mode": {
        "name": "ipython",
        "version": 3
      },
      "file_extension": ".py",
      "mimetype": "text/x-python",
      "name": "python",
      "nbconvert_exporter": "python",
      "pygments_lexer": "ipython3",
      "version": "3.6.10"
    }
  },
  "cells": [
    {
      "cell_type": "markdown",
      "metadata": {
        "id": "view-in-github",
        "colab_type": "text"
      },
      "source": [
        "<a href=\"https://colab.research.google.com/github/lfendy/goodcodebadcode/blob/master/goodcodebadcode.ipynb\" target=\"_parent\"><img src=\"https://colab.research.google.com/assets/colab-badge.svg\" alt=\"Open In Colab\"/></a>"
      ]
    },
    {
      "cell_type": "markdown",
      "metadata": {
        "colab_type": "text",
        "id": "VPMhzXI9uTFH"
      },
      "source": [
        "# Setup"
      ]
    },
    {
      "cell_type": "markdown",
      "metadata": {
        "id": "fZlw2QKMvnBl",
        "colab_type": "text"
      },
      "source": [
        "Mounting gdrive to persist data in Google Drive"
      ]
    },
    {
      "cell_type": "code",
      "metadata": {
        "id": "8f3LDcczuYbS",
        "colab_type": "code",
        "colab": {}
      },
      "source": [
        "from google.colab import drive\n",
        "drive.mount('/content/gdrive', force_remount=True)\n",
        "root_dir = \"/content/gdrive/Shared drives/Cash Eng /ML Infrastructure/05 passion projects/goodcodebadcode/\"\n",
        "base_dir = root_dir + 'fastai-v3/'"
      ],
      "execution_count": 0,
      "outputs": []
    },
    {
      "cell_type": "markdown",
      "metadata": {
        "id": "kNagUD4Uv0mT",
        "colab_type": "text"
      },
      "source": [
        "Setting up fastai and importing other required libraries"
      ]
    },
    {
      "cell_type": "code",
      "metadata": {
        "id": "WqodzaTCuYPt",
        "colab_type": "code",
        "colab": {}
      },
      "source": [
        " !curl -s https://course.fast.ai/setup/colab | bash"
      ],
      "execution_count": 0,
      "outputs": []
    },
    {
      "cell_type": "code",
      "metadata": {
        "id": "oD8npKHTvRyR",
        "colab_type": "code",
        "colab": {}
      },
      "source": [
        "%reload_ext autoreload\n",
        "%autoreload 2\n",
        "%matplotlib inline"
      ],
      "execution_count": 0,
      "outputs": []
    },
    {
      "cell_type": "code",
      "metadata": {
        "id": "ppFw450quYos",
        "colab_type": "code",
        "colab": {}
      },
      "source": [
        "from fastai.text import *\n",
        "import pandas as pd\n",
        "import numpy as np\n",
        "import matplotlib.pyplot as plt"
      ],
      "execution_count": 0,
      "outputs": []
    },
    {
      "cell_type": "markdown",
      "metadata": {
        "colab_type": "text",
        "id": "z9YNMDIR7ytf"
      },
      "source": [
        "create necessary directories to contain raw and labeled data"
      ]
    },
    {
      "cell_type": "code",
      "metadata": {
        "colab_type": "code",
        "id": "YGZ7IbLQTRb7",
        "colab": {}
      },
      "source": [
        "!mkdir -p data/raw\n",
        "!mkdir -p data/labeled"
      ],
      "execution_count": 0,
      "outputs": []
    },
    {
      "cell_type": "markdown",
      "metadata": {
        "colab_type": "text",
        "id": "Ye3P9iXd4tBg"
      },
      "source": [
        "# Collect raw data (clone repositories)"
      ]
    },
    {
      "cell_type": "markdown",
      "metadata": {
        "colab_type": "text",
        "id": "RysAeFbUts1M"
      },
      "source": [
        "Use github to gather codebases:\n",
        "ruby:\n",
        "- https://github.com/rails/rails.git\n",
        "- https://github.com/eliotsykes/real-world-rails\n",
        "- https://github.com/jeromedalbert/real-world-sinatra\n",
        "- https://github.com/jeromedalbert/real-world-ruby-apps\n",
        "\n",
        "javascript / typescript?\n",
        "- https://github.com/eliotsykes/real-world-ember\n",
        "- https://github.com/jeromedalbert/real-world-react-apps\n",
        "\n",
        "kotlin / java:\n",
        "- https://github.com/square/okhttp\n",
        "- https://github.com/mockito/mockito\n",
        "- https://github.com/iluwatar/java-design-patterns\n",
        "- https://github.com/ReactiveX/RxJava\n",
        "- https://github.com/google/guava\n",
        "- https://github.com/spring-projects/spring-framework\n",
        "- https://github.com/elastic/elasticsearch\n",
        "- https://github.com/apache/commons-lang\n",
        "- https://github.com/apache/hadoop\n",
        "- https://github.com/JetBrains/kotlin\n",
        "- https://github.com/shadowsocks/shadowsocks-android\n",
        "- https://github.com/android/architecture-samples\n",
        "- https://github.com/square/leakcanary\n",
        "- https://github.com/ReactiveX/RxKotlin\n",
        "- https://github.com/InsertKoinIO/koin\n",
        "- https://github.com/ssseasonnn/RxDownload\n",
        "- https://github.com/dbacinski/Design-Patterns-In-Kotlin\n"
      ]
    },
    {
      "cell_type": "code",
      "metadata": {
        "colab_type": "code",
        "id": "QidObku3hy-F",
        "colab": {}
      },
      "source": [
        "\n",
        "remotes = [\n",
        "  #kotlin java\n",
        "  \"https://github.com/square/okhttp\",\n",
        "  #\"https://github.com/mockito/mockito\", #does not have a master \n",
        "  \"https://github.com/iluwatar/java-design-patterns\",\n",
        "  #\"https://github.com/ReactiveX/RxJava\", #does not have a master\n",
        "  \"https://github.com/google/guava\",\n",
        "  \"https://github.com/spring-projects/spring-framework\",\n",
        "  \"https://github.com/elastic/elasticsearch\",\n",
        "  \"https://github.com/apache/commons-lang\",\n",
        "  \"https://github.com/apache/hadoop\",\n",
        "  \"https://github.com/JetBrains/kotlin\",\n",
        "  \"https://github.com/shadowsocks/shadowsocks-android\",\n",
        "  \"https://github.com/android/architecture-samples\",\n",
        "  \"https://github.com/square/leakcanary\",\n",
        "  \"https://github.com/ReactiveX/RxKotlin\",\n",
        "  \"https://github.com/InsertKoinIO/koin\",\n",
        "  \"https://github.com/ssseasonnn/RxDownload\",\n",
        "  \"https://github.com/dbacinski/Design-Patterns-In-Kotlin\",\n",
        "  #rb\n",
        "  \"https://github.com/javan/whenever.git\",\n",
        "  \"https://github.com/jmettraux/rufus-scheduler.git\",\n",
        "  \"https://github.com/resque/resque-scheduler.git\",\n",
        "  \"https://github.com/Rykian/clockwork.git\",\n",
        "  \"https://github.com/ddollar/foreman.git\",\n",
        "  \"https://github.com/resque/resque.git\",\n",
        "  \"https://github.com/mperham/sidekiq.git\",\n",
        "  \"https://github.com/bbatsov/rubocop.git\",\n",
        "  \"https://github.com/premailer/premailer.git\",\n",
        "  \"https://github.com/Mange/roadie.git\",\n",
        "  \"https://github.com/busyloop/lolcat.git\",\n",
        "  \"https://github.com/Homebrew/brew.git\",\n",
        "  \"https://github.com/octopress/octopress.git\",\n",
        "  \"https://github.com/jekyll/jekyll.git\",\n",
        "  \"https://github.com/middleman/middleman.git\",\n",
        "  \"https://github.com/sass/sass.git\",\n",
        "  \"https://github.com/pry/pry.git\",\n",
        "  \"https://github.com/Gazler/githug.git\",\n",
        "  \"https://github.com/adamsanderson/qwandry.git\",\n",
        "  \"https://github.com/bkeepers/dotenv.git\",\n",
        "  \"https://github.com/grosser/smusher.git\",\n",
        "  \"https://github.com/grosser/ruco.git\",\n",
        "  \"https://github.com/ruby/rake.git\",\n",
        "  \"https://github.com/ruby/rdoc.git\",\n",
        "  \"https://github.com/jneen/rouge.git\",\n",
        "  \"https://github.com/rubychan/coderay.git\",\n",
        "  \"https://github.com/github/markup.git\",\n",
        "  \"https://github.com/gettalong/kramdown.git\",\n",
        "  \"https://github.com/haml/haml.git\",\n",
        "  \"https://github.com/troessner/reek.git\",\n",
        "  \"https://github.com/capistrano/capistrano.git\",\n",
        "  \"https://github.com/mina-deploy/mina.git\",\n",
        "  \"https://github.com/hashicorp/vagrant.git\",\n",
        "  \"https://github.com/puppetlabs/puppet.git\",\n",
        "  \"https://github.com/macournoyer/thin.git\",\n",
        "  \"https://github.com/defunkt/unicorn.git\",\n",
        "  \"https://github.com/puma/puma.git\",\n",
        "  \"https://github.com/chef/chef.git\",\n",
        "  \"https://github.com/presidentbeef/brakeman.git\",\n",
        "  \"https://github.com/alexreisner/geocoder.git\",\n",
        "  \"https://github.com/tmuxinator/tmuxinator.git\",\n",
        "  \"https://github.com/athityakumar/colorls.git\",\n",
        "  \"https://github.com/toy/image_optim.git\",\n",
        "  \"https://github.com/skywinder/github-changelog-generator.git\",\n",
        "  \"https://github.com/ryanb/ruby-warrior.git\",\n",
        "  \"https://github.com/mame/optcarrot.git\",\n",
        "  \"https://github.com/adamcooke/procodile.git\",\n",
        "  \"https://github.com/grosser/pru.git\",\n",
        "  \"https://github.com/pawurb/termit.git\",\n",
        "  \"https://github.com/JacobEvelyn/friends.git\",\n",
        "  \"https://github.com/weppos/whois.git\",\n",
        "  \"https://github.com/htty/htty.git\",\n",
        "  \"https://github.com/benbalter/word-to-markdown.git\",\n",
        "  \"https://github.com/xijo/reverse_markdown.git\",\n",
        "  \"https://github.com/jstrait/beats.git\",\n",
        "  \"https://github.com/pazdera/catpix.git\",\n",
        "  \"https://github.com/soffes/hue.git\",\n",
        "  \"https://github.com/johnnyt/cowsay.git\",\n",
        "  \"https://github.com/sferik/t.git\",\n",
        "  \"https://github.com/CocoaPods/CocoaPods.git\"\n",
        "]\n",
        "\n"
      ],
      "execution_count": 0,
      "outputs": []
    },
    {
      "cell_type": "code",
      "metadata": {
        "id": "KfdZRcVLsYRt",
        "colab_type": "code",
        "colab": {}
      },
      "source": [
        "\n",
        "# clone \n",
        "for src_url in remotes:\n",
        "  print(src_url)\n",
        "  !git -C data/raw clone --depth=1 --single-branch --branch=master $src_url\n",
        "\n"
      ],
      "execution_count": 0,
      "outputs": []
    },
    {
      "cell_type": "code",
      "metadata": {
        "colab_type": "code",
        "id": "BpjVDd3sGr7a",
        "colab": {}
      },
      "source": [
        "def get_dir_name(url_name):\n",
        "  return url_name.split('/')[-1].replace(\".git\", \"\")\n",
        "\n",
        "test_url = \"https://asdf/asdfasdfasdf/xzcvzxcv/vbnm.git\"\n",
        "print(\"vbnm should == \", get_dir_name(test_url))\n",
        "\n",
        "def get_ext(filename):\n",
        "  return filename.split('.')[-1]\n",
        "\n",
        "test_filename = \"asd/asd/f/sdafas/df/asdfsadfasdf/filename.extension\"\n",
        "print(\"extension should == \", get_ext(test_filename))\n"
      ],
      "execution_count": 0,
      "outputs": []
    },
    {
      "cell_type": "code",
      "metadata": {
        "colab_type": "code",
        "id": "JEo99YyGOQlE",
        "colab": {}
      },
      "source": [
        "# remove .git folders collect dir_names\n",
        "dir_names = []\n",
        "for src_url in remotes:\n",
        "  dir_name = get_dir_name(src_url)\n",
        "  print(dir_name)\n",
        "  dir_names.append(dir_name)\n",
        "  !rm -rf data/raw/$dir_name/.git"
      ],
      "execution_count": 0,
      "outputs": []
    },
    {
      "cell_type": "markdown",
      "metadata": {
        "id": "4G24QA7usYR2",
        "colab_type": "text"
      },
      "source": [
        "```\n",
        "!find $src_loc -type f -name \"*.$ext\" | xargs -I%% echo -e \"%%\\n__snakeme__%%\" | sed '/__snakeme__/s/\\//_/g' | sed \"s@__snakeme__@$lang_loc@g\" | xargs -r -l2 -- cp -f\n",
        "```\n",
        "    # this is a hack:\n",
        "    # - find... will get us [\n",
        "    #   \"data/raw/project/folder1/folder2/somefile.kt\", \n",
        "    #   \"data/raw/project/folder3/someotherfile.kt\"]\n",
        "    ##### (this needs a duplicate, a marker for regex (__snakeme__) and a new line '\\n' so `sed` can replace '/' with '_' ONLY on relevant lines)\n",
        "    # - change to [\n",
        "    #   \"data/raw/project/folder1/folder2/somefile.kt\\n__snakeme__data/raw/project/folder1/folder2/somefile.kt\",\n",
        "    #   \"data/raw/project/folder3/someotherfile.kt\\n__snakeme__data/raw/project/folder3/someotherfile.kt\"]\n",
        "    #####\n",
        "    # - change to [\n",
        "    #   \"data/raw/project/folder1/folder2/somefile.kt\\n__snakeme__data_raw_project_folder1_folder2_somefile.kt\",\n",
        "    #   \"data/raw/project/folder3/someotherfile.kt\\n__snakeme__data_raw_project_folder3_someotherfile.kt\"]\n",
        "    #####\n",
        "    # - change to [\n",
        "    #   \"data/raw/project/folder1/folder2/somefile.kt\\ndata/labeled/data_raw_project_folder1_folder2_somefile.kt\",\n",
        "    #   \"data/raw/project/folder3/someotherfile.kt\\ndata/labeled/data_raw_project_folder3_someotherfile.kt\"]\n",
        "    #####\n",
        "    # - pass to `xargs` with:\n",
        "    #   -r: so we don't execute xargs if stream is empty\n",
        "    #   -l2: pass the arguments to xargs, 2 at a time\n",
        "    #   cp -f: copy force (overwrite always)"
      ]
    },
    {
      "cell_type": "code",
      "metadata": {
        "colab_type": "code",
        "id": "JdE8fS9vuRqE",
        "colab": {}
      },
      "source": [
        "dict_ext_to_lang = {\n",
        "  \"kt\": \"kotlin\",\n",
        "  \"java\": \"java\",\n",
        "  \"rb\": \"ruby\",\n",
        "  \"ts\": \"typescript\",\n",
        "  \"js\": \"javascript\"\n",
        "}\n",
        "\n",
        "raw_loc = \"data/raw/\"\n",
        "labeled_loc = \"data/labeled/\"\n",
        "\n",
        "# remove spaces from dir and remove spaces from filenames\n",
        "# try this next time: find /tmp/ -depth -name \"* *\" -execdir rename 's/ /_/g' \"{}\" \\;\n",
        "!find $raw_loc -name \"* *\" -type d | rename 's/ /_/g'    # do the directories first\n",
        "!find $raw_loc -name \"* *\" -type f | rename 's/ /_/g'\n",
        "\n",
        "# copy to appropriate language folders (flattened with path)\n",
        "for dir_name in dir_names:\n",
        "  print(dir_name)\n",
        "  for el in dict_ext_to_lang.items():\n",
        "    ext = el[0]\n",
        "    lang = el[1]\n",
        "    print(lang)\n",
        "    src_loc = raw_loc + dir_name\n",
        "    lang_loc = labeled_loc + lang + \"/\"\n",
        "    !mkdir -p $lang_loc    \n",
        "    !find $src_loc -type f -name \"*.$ext\" | xargs -I%% echo -e \"%%\\n__snakeme__%%\" | sed '/__snakeme__/s/\\//_/g' | sed \"s@__snakeme__@$lang_loc@g\" | xargs -r -l2 -- cp -f\n",
        "    print(lang + \" done\")\n",
        "  print(dir_name + \" done\")\n"
      ],
      "execution_count": 0,
      "outputs": []
    },
    {
      "cell_type": "code",
      "metadata": {
        "colab_type": "code",
        "id": "4V9srceWtBvs",
        "colab": {}
      },
      "source": [
        "!pwd"
      ],
      "execution_count": 0,
      "outputs": []
    },
    {
      "cell_type": "code",
      "metadata": {
        "id": "et46R-9JsYR8",
        "colab_type": "code",
        "colab": {}
      },
      "source": [
        ""
      ],
      "execution_count": 0,
      "outputs": []
    }
  ]
}
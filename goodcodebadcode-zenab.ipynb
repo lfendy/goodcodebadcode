{
  "nbformat": 4,
  "nbformat_minor": 0,
  "metadata": {
    "colab": {
      "name": "goodcodebadcode_fastaiNLP.ipynb",
      "provenance": [],
      "collapsed_sections": [
        "VPMhzXI9uTFH"
      ],
      "include_colab_link": true
    },
    "kernelspec": {
      "display_name": "Python 3",
      "language": "python",
      "name": "python3"
    },
    "language_info": {
      "codemirror_mode": {
        "name": "ipython",
        "version": 3
      },
      "file_extension": ".py",
      "mimetype": "text/x-python",
      "name": "python",
      "nbconvert_exporter": "python",
      "pygments_lexer": "ipython3",
      "version": "3.6.10"
    },
    "accelerator": "GPU"
  },
  "cells": [
    {
      "cell_type": "markdown",
      "metadata": {
        "id": "view-in-github",
        "colab_type": "text"
      },
      "source": [
        "<a href=\"https://colab.research.google.com/github/lfendy/goodcodebadcode/blob/master/goodcodebadcode-zenab.ipynb\" target=\"_parent\"><img src=\"https://colab.research.google.com/assets/colab-badge.svg\" alt=\"Open In Colab\"/></a>"
      ]
    },
    {
      "cell_type": "markdown",
      "metadata": {
        "colab_type": "text",
        "id": "VPMhzXI9uTFH"
      },
      "source": [
        "# Setup"
      ]
    },
    {
      "cell_type": "markdown",
      "metadata": {
        "colab_type": "text",
        "id": "z9YNMDIR7ytf"
      },
      "source": [
        "create necessary directories to contain raw and labeled data"
      ]
    },
    {
      "cell_type": "code",
      "metadata": {
        "colab_type": "code",
        "id": "YGZ7IbLQTRb7",
        "colab": {}
      },
      "source": [
        "!mkdir -p data/raw\n",
        "!mkdir -p data/labeled"
      ],
      "execution_count": null,
      "outputs": []
    },
    {
      "cell_type": "markdown",
      "metadata": {
        "id": "_bQpqVLVZZwK",
        "colab_type": "text"
      },
      "source": [
        ""
      ]
    },
    {
      "cell_type": "markdown",
      "metadata": {
        "colab_type": "text",
        "id": "Ye3P9iXd4tBg"
      },
      "source": [
        "# Collect raw data (clone repositories)"
      ]
    },
    {
      "cell_type": "markdown",
      "metadata": {
        "colab_type": "text",
        "id": "RysAeFbUts1M"
      },
      "source": [
        "Use github to gather codebases:\n",
        "ruby:\n",
        "- https://github.com/rails/rails.git\n",
        "- https://github.com/eliotsykes/real-world-rails\n",
        "- https://github.com/jeromedalbert/real-world-sinatra\n",
        "- https://github.com/jeromedalbert/real-world-ruby-apps\n",
        "\n",
        "javascript / typescript?\n",
        "- https://github.com/eliotsykes/real-world-ember\n",
        "- https://github.com/jeromedalbert/real-world-react-apps\n",
        "- https://github.com/tryghost/Ghost\n",
        "- https://github.com/ericf/open-marriage\n",
        "- https://github.com/thanpolas/nodeON\n",
        "- https://github.com/thanpolas/crude\n",
        "- https://github.com/NodeBB/NodeBB\n",
        "- https://github.com/emgram769/livechan-js\n",
        "- https://github.com/pencilblue/pencilblue\n",
        "- https://github.com/Actionhero/Actionhero\n",
        "- https://github.com/balderdashy/sails\n",
        "- https://github.com/abuiles/borrowers\n",
        "- https://github.com/emberjax/cast\n",
        "- https://github.com/gcollazo/ember-cli-addon-search\n",
        "- https://github.com/broerse/ember-cli-blog\n",
        "- https://github.com/givanse/ember-cli-simple-auth-devise\n",
        "- https://github.com/ember-cli/ember-cli-todos\n",
        "- https://github.com/stefanpenner/ember-jobs\n",
        "- https://github.com/ember-cli/ember-twiddle\n",
        "- https://github.com/ember-weekend/ember-weekend\n",
        "- https://github.com/emberobserver/client\n",
        "- https://github.com/abuiles/facturas-client\n",
        "- https://github.com/HospitalRun/hospitalrun-frontend\n",
        "- https://github.com/huboard/huboard-web\n",
        "- https://github.com/hummingbird-me/kitsu-tools\n",
        "- https://github.com/alisdair/team-time-zone\n",
        "- https://github.com/wordset/wordset-ui\n",
        "- https://github.com/1ven/do.git\n",
        "- https://github.com/Automattic/wp-calypso.git\n",
        "- https://github.com/DevAlien/dripr-ui.git\n",
        "- https://github.com/FormidableLabs/react-music.git\n",
        "- https://github.com/FormidableLabs/spectacle.git\n",
        "- https://github.com/HVF/franchise.git\n",
        "- https://github.com/Khan/perseus.git\n",
        "- https://github.com/KrateLabs/KrateLabs-App.git\n",
        "- https://github.com/LeoAJ/react-iTunes-search.git\n",
        "- https://github.com/SKempin/reactjs-tmdb-app.git\n",
        "- https://github.com/WebbyLab/itsquiz-wall.git\n",
        "- https://github.com/afghl/dribble-demo.git\n",
        "- https://github.com/afonsopacifer/react-pomodoro.git\n",
        "- https://github.com/andrewngu/sound-redux.git\n",
        "- https://github.com/antoinejaussoin/retro-board.git\n",
        "- https://github.com/benoitvallon/react-native-nw-react-calculator.git\n",
        "- https://github.com/browniefed/pdxlivebus.git\n",
        "- https://github.com/captbaritone/winamp2-js.git\n",
        "- https://github.com/chvin/react-tetris.git\n",
        "- https://github.com/docker/kitematic.git\n",
        "- https://github.com/dockunit/platform.git\n",
        "- https://github.com/echenley/react-news.git\n",
        "- https://github.com/fcsonline/react-transmission.git\n",
        "- https://github.com/feednext/feednext.git\n",
        "- https://github.com/fullstackreact/react-yelp-clone.git\n",
        "- https://github.com/getguesstimate/guesstimate-app.git\n",
        "- https://github.com/gothinkster/react-redux-realworld-example-app.git\n",
        "- https://github.com/gpbl/isomorphic500.git\n",
        "- https://github.com/guyellis/plant.git\n",
        "- https://github.com/hoppula/refire-forum.git\n",
        "- https://github.com/insin/lifequote.git\n",
        "- https://github.com/insin/react-hn.git\n",
        "- https://github.com/ismaelgt/english-accents-map.git\n",
        "- https://github.com/koodilehto/invoice-frontend.git\n",
        "- https://github.com/limichange/flex-editor.git\n",
        "- https://github.com/lkazberova/react-photo-feed.git\n",
        "- https://github.com/paulhoughton/mortgage-mobx.git\n",
        "- https://github.com/paulhoughton/mortgage.git\n",
        "- https://github.com/pearofducks/foodprocessor.git\n",
        "- https://github.com/pl12133/react-solitaire.git\n",
        "- https://github.com/project-bobon/bobonroastprofile.git\n",
        "- https://github.com/ritoplz/ritoplz.git\n",
        "- https://github.com/rwieruch/favesound-redux.git\n",
        "- https://github.com/skidding/flatris.git\n",
        "- https://github.com/skidding/illustrated-algorithms.git\n",
        "- https://github.com/sprintly/sprintly-ui.git\n",
        "- https://github.com/stevenhauser/i-have-to-return-some-videotapes.git\n",
        "- https://github.com/torontojs/torontojs.com.git\n",
        "- https://github.com/web-pal/react-trello-board.git\n",
        "- https://github.com/zeit/hyper.git\n",
        "- https://github.com/rwieruch/favesound-mobx\n",
        "\n",
        "\n",
        "kotlin / java:\n",
        "- https://github.com/square/okhttp\n",
        "- https://github.com/mockito/mockito\n",
        "- https://github.com/iluwatar/java-design-patterns\n",
        "- https://github.com/ReactiveX/RxJava\n",
        "- https://github.com/google/guava\n",
        "- https://github.com/spring-projects/spring-framework\n",
        "- https://github.com/elastic/elasticsearch\n",
        "- https://github.com/apache/commons-lang\n",
        "- https://github.com/apache/hadoop\n",
        "- https://github.com/JetBrains/kotlin\n",
        "- https://github.com/shadowsocks/shadowsocks-android\n",
        "- https://github.com/android/architecture-samples\n",
        "- https://github.com/square/leakcanary\n",
        "- https://github.com/ReactiveX/RxKotlin\n",
        "- https://github.com/InsertKoinIO/koin\n",
        "- https://github.com/ssseasonnn/RxDownload\n",
        "- https://github.com/dbacinski/Design-Patterns-In-Kotlin\n"
      ]
    },
    {
      "cell_type": "code",
      "metadata": {
        "colab_type": "code",
        "id": "QidObku3hy-F",
        "colab": {}
      },
      "source": [
        "\n",
        "remotes = [\n",
        "  #kotlin java\n",
        "  \"https://github.com/square/okhttp\",\n",
        "  #\"https://github.com/mockito/mockito\", #does not have a master \n",
        "  \"https://github.com/iluwatar/java-design-patterns\",\n",
        "  #\"https://github.com/ReactiveX/RxJava\", #does not have a master\n",
        "  \"https://github.com/google/guava\",\n",
        "  \"https://github.com/spring-projects/spring-framework\",\n",
        "  \"https://github.com/elastic/elasticsearch\",\n",
        "  \"https://github.com/apache/commons-lang\",\n",
        "  \"https://github.com/apache/hadoop\",\n",
        "  \"https://github.com/JetBrains/kotlin\",\n",
        "  \"https://github.com/shadowsocks/shadowsocks-android\",\n",
        "  \"https://github.com/android/architecture-samples\",\n",
        "  \"https://github.com/square/leakcanary\",\n",
        "  \"https://github.com/ReactiveX/RxKotlin\",\n",
        "  \"https://github.com/InsertKoinIO/koin\",\n",
        "  \"https://github.com/ssseasonnn/RxDownload\",\n",
        "  \"https://github.com/dbacinski/Design-Patterns-In-Kotlin\",\n",
        "  #rb\n",
        "  \"https://github.com/javan/whenever.git\",\n",
        "  \"https://github.com/jmettraux/rufus-scheduler.git\",\n",
        "  \"https://github.com/resque/resque-scheduler.git\",\n",
        "  \"https://github.com/Rykian/clockwork.git\",\n",
        "  \"https://github.com/ddollar/foreman.git\",\n",
        "  \"https://github.com/resque/resque.git\",\n",
        "  \"https://github.com/mperham/sidekiq.git\",\n",
        "  \"https://github.com/bbatsov/rubocop.git\",\n",
        "  \"https://github.com/premailer/premailer.git\",\n",
        "  \"https://github.com/Mange/roadie.git\",\n",
        "  \"https://github.com/busyloop/lolcat.git\",\n",
        "  \"https://github.com/Homebrew/brew.git\",\n",
        "  \"https://github.com/octopress/octopress.git\",\n",
        "  \"https://github.com/jekyll/jekyll.git\",\n",
        "  \"https://github.com/middleman/middleman.git\",\n",
        "  \"https://github.com/sass/sass.git\",\n",
        "  \"https://github.com/pry/pry.git\",\n",
        "  \"https://github.com/Gazler/githug.git\",\n",
        "  \"https://github.com/adamsanderson/qwandry.git\",\n",
        "  \"https://github.com/bkeepers/dotenv.git\",\n",
        "  \"https://github.com/grosser/smusher.git\",\n",
        "  \"https://github.com/grosser/ruco.git\",\n",
        "  \"https://github.com/ruby/rake.git\",\n",
        "  \"https://github.com/ruby/rdoc.git\",\n",
        "  \"https://github.com/jneen/rouge.git\",\n",
        "  \"https://github.com/rubychan/coderay.git\",\n",
        "  \"https://github.com/github/markup.git\",\n",
        "  \"https://github.com/gettalong/kramdown.git\",\n",
        "  \"https://github.com/haml/haml.git\",\n",
        "  \"https://github.com/troessner/reek.git\",\n",
        "  \"https://github.com/capistrano/capistrano.git\",\n",
        "  \"https://github.com/mina-deploy/mina.git\",\n",
        "  \"https://github.com/hashicorp/vagrant.git\",\n",
        "  \"https://github.com/puppetlabs/puppet.git\",\n",
        "  \"https://github.com/macournoyer/thin.git\",\n",
        "  \"https://github.com/defunkt/unicorn.git\",\n",
        "  \"https://github.com/puma/puma.git\",\n",
        "  \"https://github.com/chef/chef.git\",\n",
        "  \"https://github.com/presidentbeef/brakeman.git\",\n",
        "  \"https://github.com/alexreisner/geocoder.git\",\n",
        "  \"https://github.com/tmuxinator/tmuxinator.git\",\n",
        "  \"https://github.com/athityakumar/colorls.git\",\n",
        "  \"https://github.com/toy/image_optim.git\",\n",
        "  \"https://github.com/skywinder/github-changelog-generator.git\",\n",
        "  \"https://github.com/ryanb/ruby-warrior.git\",\n",
        "  \"https://github.com/mame/optcarrot.git\",\n",
        "  \"https://github.com/adamcooke/procodile.git\",\n",
        "  \"https://github.com/grosser/pru.git\",\n",
        "  \"https://github.com/pawurb/termit.git\",\n",
        "  \"https://github.com/JacobEvelyn/friends.git\",\n",
        "  \"https://github.com/weppos/whois.git\",\n",
        "  \"https://github.com/htty/htty.git\",\n",
        "  \"https://github.com/benbalter/word-to-markdown.git\",\n",
        "  \"https://github.com/xijo/reverse_markdown.git\",\n",
        "  \"https://github.com/jstrait/beats.git\",\n",
        "  \"https://github.com/pazdera/catpix.git\",\n",
        "  \"https://github.com/soffes/hue.git\",\n",
        "  \"https://github.com/johnnyt/cowsay.git\",\n",
        "  \"https://github.com/sferik/t.git\",\n",
        "  \"https://github.com/CocoaPods/CocoaPods.git\"\n",
        "]\n",
        "\n"
      ],
      "execution_count": null,
      "outputs": []
    },
    {
      "cell_type": "code",
      "metadata": {
        "id": "KfdZRcVLsYRt",
        "colab_type": "code",
        "colab": {}
      },
      "source": [
        "\n",
        "# clone \n",
        "for src_url in remotes:\n",
        "  print(src_url)\n",
        "  !git -C data/raw clone --depth=1 --single-branch --branch=master $src_url\n",
        "\n"
      ],
      "execution_count": null,
      "outputs": []
    },
    {
      "cell_type": "code",
      "metadata": {
        "colab_type": "code",
        "id": "BpjVDd3sGr7a",
        "colab": {}
      },
      "source": [
        "def get_dir_name(url_name):\n",
        "  return url_name.split('/')[-1].replace(\".git\", \"\")\n",
        "\n",
        "test_url = \"https://asdf/asdfasdfasdf/xzcvzxcv/vbnm.git\"\n",
        "print(\"vbnm should == \", get_dir_name(test_url))\n",
        "\n",
        "def get_ext(filename):\n",
        "  return filename.split('.')[-1]\n",
        "\n",
        "test_filename = \"asd/asd/f/sdafas/df/asdfsadfasdf/filename.extension\"\n",
        "print(\"extension should == \", get_ext(test_filename))\n"
      ],
      "execution_count": null,
      "outputs": []
    },
    {
      "cell_type": "code",
      "metadata": {
        "colab_type": "code",
        "id": "JEo99YyGOQlE",
        "colab": {}
      },
      "source": [
        "# remove .git folders collect dir_names\n",
        "dir_names = []\n",
        "for src_url in remotes:\n",
        "  dir_name = get_dir_name(src_url)\n",
        "  print(dir_name)\n",
        "  dir_names.append(dir_name)\n",
        "  !rm -rf data/raw/$dir_name/.git"
      ],
      "execution_count": null,
      "outputs": []
    },
    {
      "cell_type": "markdown",
      "metadata": {
        "id": "4G24QA7usYR2",
        "colab_type": "text"
      },
      "source": [
        "```\n",
        "!find $src_loc -type f -name \"*.$ext\" | xargs -I%% echo -e \"%%\\n__snakeme__%%\" | sed '/__snakeme__/s/\\//_/g' | sed \"s@__snakeme__@$lang_loc@g\" | xargs -r -l2 -- cp -f\n",
        "```\n",
        "    # this is a hack:\n",
        "    # - find... will get us [\n",
        "    #   \"data/raw/project/folder1/folder2/somefile.kt\", \n",
        "    #   \"data/raw/project/folder3/someotherfile.kt\"]\n",
        "    ##### (this needs a duplicate, a marker for regex (__snakeme__) and a new line '\\n' so `sed` can replace '/' with '_' ONLY on relevant lines)\n",
        "    # - change to [\n",
        "    #   \"data/raw/project/folder1/folder2/somefile.kt\\n__snakeme__data/raw/project/folder1/folder2/somefile.kt\",\n",
        "    #   \"data/raw/project/folder3/someotherfile.kt\\n__snakeme__data/raw/project/folder3/someotherfile.kt\"]\n",
        "    #####\n",
        "    # - change to [\n",
        "    #   \"data/raw/project/folder1/folder2/somefile.kt\\n__snakeme__data_raw_project_folder1_folder2_somefile.kt\",\n",
        "    #   \"data/raw/project/folder3/someotherfile.kt\\n__snakeme__data_raw_project_folder3_someotherfile.kt\"]\n",
        "    #####\n",
        "    # - change to [\n",
        "    #   \"data/raw/project/folder1/folder2/somefile.kt\\ndata/labeled/data_raw_project_folder1_folder2_somefile.kt\",\n",
        "    #   \"data/raw/project/folder3/someotherfile.kt\\ndata/labeled/data_raw_project_folder3_someotherfile.kt\"]\n",
        "    #####\n",
        "    # - pass to `xargs` with:\n",
        "    #   -r: so we don't execute xargs if stream is empty\n",
        "    #   -l2: pass the arguments to xargs, 2 at a time\n",
        "    #   cp -f: copy force (overwrite always)"
      ]
    },
    {
      "cell_type": "code",
      "metadata": {
        "colab_type": "code",
        "id": "JdE8fS9vuRqE",
        "colab": {}
      },
      "source": [
        "dict_ext_to_lang = {\n",
        "  \"kt\": \"kotlin\",\n",
        "  \"java\": \"java\",\n",
        "  \"rb\": \"ruby\",\n",
        "  \"ts\": \"typescript\",\n",
        "  \"js\": \"javascript\"\n",
        "}\n",
        "\n",
        "raw_loc = \"data/raw/\"\n",
        "labeled_loc = \"data/labeled/\"\n",
        "\n",
        "# remove spaces from dir and remove spaces from filenames\n",
        "# try this next time: find /tmp/ -depth -name \"* *\" -execdir rename 's/ /_/g' \"{}\" \\;\n",
        "!find $raw_loc -name \"* *\" -type d | rename 's/ /_/g'    # do the directories first\n",
        "!find $raw_loc -name \"* *\" -type f | rename 's/ /_/g'\n",
        "\n",
        "# copy to appropriate language folders (flattened with path)\n",
        "for dir_name in dir_names:\n",
        "  print(dir_name)\n",
        "  for el in dict_ext_to_lang.items():\n",
        "    ext = el[0]\n",
        "    lang = el[1]\n",
        "    print(lang)\n",
        "    src_loc = raw_loc + dir_name\n",
        "    lang_loc = labeled_loc + lang + \"/\"\n",
        "    !mkdir -p $lang_loc    \n",
        "    !find $src_loc -type f -name \"*.$ext\" | xargs -I%% echo -e \"%%\\n__snakeme__%%\" | sed '/__snakeme__/s/\\//_/g' | sed \"s@__snakeme__@$lang_loc@g\" | xargs -r -l2 -- cp -f\n",
        "    print(lang + \" done\")\n",
        "  print(dir_name + \" done\")\n"
      ],
      "execution_count": null,
      "outputs": []
    },
    {
      "cell_type": "markdown",
      "metadata": {
        "id": "sXuWZybLHEW9",
        "colab_type": "text"
      },
      "source": [
        "# Setup with files already in Gdrive"
      ]
    },
    {
      "cell_type": "markdown",
      "metadata": {
        "id": "fZlw2QKMvnBl",
        "colab_type": "text"
      },
      "source": [
        "Mounting gdrive to persist data in Google Drive"
      ]
    },
    {
      "cell_type": "code",
      "metadata": {
        "colab_type": "code",
        "id": "R8BZCxJ2HarR",
        "colab": {
          "base_uri": "https://localhost:8080/",
          "height": 34
        },
        "outputId": "eb6b83ff-2e81-4f50-84bd-7dff14405cc1"
      },
      "source": [
        "from google.colab import drive\n",
        "drive.mount('/content/gdrive', force_remount=True)\n",
        "root_dir = \"/content/gdrive/Shared drives/Cash Eng /ML Infrastructure/05 passion projects/goodcodebadcode/\"\n",
        "base_dir = root_dir + 'fastai-v3/'"
      ],
      "execution_count": 7,
      "outputs": [
        {
          "output_type": "stream",
          "text": [
            "Mounted at /content/gdrive\n"
          ],
          "name": "stdout"
        }
      ]
    },
    {
      "cell_type": "code",
      "metadata": {
        "id": "iNvNtzraIV1G",
        "colab_type": "code",
        "colab": {}
      },
      "source": [
        "# Start from unzipped files in the gdrive\n",
        "%cd \"/content/gdrive/Shared drives/Cash Eng /ML Infrastructure/05 passion projects/goodcodebadcode/data/labeled\"\n",
        "%pwd\n",
        "%ls\n",
        "!unzip -o javascript.zip"
      ],
      "execution_count": null,
      "outputs": []
    },
    {
      "cell_type": "code",
      "metadata": {
        "id": "aLpYo5ZoIeFm",
        "colab_type": "code",
        "colab": {}
      },
      "source": [
        "%cd \"/content/gdrive/Shared drives/Cash Eng /ML Infrastructure/05 passion projects/goodcodebadcode/data/labeled\"\n",
        "%ls ruby/ | wc -l | xargs -I%% printf \"ruby: %%\\n\"\n",
        "%ls java/ | wc -l | xargs -I%% printf \"java: %%\\n\"\n",
        "%ls kotlin/ | wc -l | xargs -I%% printf \"kotlin: %%\\n\"\n",
        "%ls javascript/ | wc -l | xargs -I%% printf \"javascript: %%\\n\"\n",
        "%ls typescript/ | wc -l | xargs -I%% printf \"typescript: %%\\n\""
      ],
      "execution_count": null,
      "outputs": []
    },
    {
      "cell_type": "code",
      "metadata": {
        "id": "Ze2uh--7Ir2m",
        "colab_type": "code",
        "colab": {
          "base_uri": "https://localhost:8080/",
          "height": 54
        },
        "outputId": "07155085-5eb5-48b4-f3f8-26d18674a072"
      },
      "source": [
        "gdrive_data_loc = \"/content/gdrive/Shared drives/Cash Eng /ML Infrastructure/05 passion projects/goodcodebadcode/data/labeled\"\n",
        "max_num_files = 100;\n",
        "labeled_dirs = !find \"$gdrive_data_loc\" -mindepth 1 -maxdepth 1 -type d\n",
        "print(labeled_dirs)"
      ],
      "execution_count": null,
      "outputs": [
        {
          "output_type": "stream",
          "text": [
            "['/content/gdrive/Shared drives/Cash Eng /ML Infrastructure/05 passion projects/goodcodebadcode/data/labeled/kotlin', '/content/gdrive/Shared drives/Cash Eng /ML Infrastructure/05 passion projects/goodcodebadcode/data/labeled/java', '/content/gdrive/Shared drives/Cash Eng /ML Infrastructure/05 passion projects/goodcodebadcode/data/labeled/ruby', '/content/gdrive/Shared drives/Cash Eng /ML Infrastructure/05 passion projects/goodcodebadcode/data/labeled/typescript', '/content/gdrive/Shared drives/Cash Eng /ML Infrastructure/05 passion projects/goodcodebadcode/data/labeled/javascript']\n"
          ],
          "name": "stdout"
        }
      ]
    },
    {
      "cell_type": "markdown",
      "metadata": {
        "id": "JA7awHITGf_l",
        "colab_type": "text"
      },
      "source": [
        "Setting up fastai in the active colab session and importing useful libraries"
      ]
    },
    {
      "cell_type": "code",
      "metadata": {
        "colab_type": "code",
        "id": "SiHKo_mOHvQU",
        "colab": {
          "base_uri": "https://localhost:8080/",
          "height": 50
        },
        "outputId": "eacde06d-409d-450c-b2ed-cc5d8b9e8a57"
      },
      "source": [
        " !curl -s https://course.fast.ai/setup/colab | bash"
      ],
      "execution_count": null,
      "outputs": [
        {
          "output_type": "stream",
          "text": [
            "Updating fastai...\n",
            "Done.\n"
          ],
          "name": "stdout"
        }
      ]
    },
    {
      "cell_type": "code",
      "metadata": {
        "colab_type": "code",
        "id": "Bic5ZVPpH1A-",
        "colab": {}
      },
      "source": [
        "from fastai.text import *\n",
        "import pandas as pd\n",
        "import numpy as np\n",
        "import matplotlib.pyplot as plt"
      ],
      "execution_count": null,
      "outputs": []
    },
    {
      "cell_type": "code",
      "metadata": {
        "colab_type": "code",
        "id": "yxNv1TMjHykr",
        "colab": {}
      },
      "source": [
        "%reload_ext autoreload\n",
        "%autoreload 2\n",
        "%matplotlib inline"
      ],
      "execution_count": null,
      "outputs": []
    },
    {
      "cell_type": "markdown",
      "metadata": {
        "id": "XobPjTQKYVyY",
        "colab_type": "text"
      },
      "source": [
        "### Data Transformation"
      ]
    },
    {
      "cell_type": "code",
      "metadata": {
        "id": "D1Azl0IcYymT",
        "colab_type": "code",
        "colab": {}
      },
      "source": [
        "# path = \"/content/gdrive/Shared drives/Cash Eng /ML Infrastructure/05 passion projects/goodcodebadcode/data/labeled/\"\n",
        "# file_name = \"kotlin/data_raw_koin_koin-projects_koin-core_src_test_java_org_koin_core_GenericDeclarationTest.kt\"\n",
        "# df = pd.read_csv(file_name, delimiter=\"\\t\", header=None, names=[\"text\"])\n",
        "# df.head()"
      ],
      "execution_count": null,
      "outputs": []
    },
    {
      "cell_type": "code",
      "metadata": {
        "id": "SJJ2bnUPblW3",
        "colab_type": "code",
        "colab": {}
      },
      "source": [
        "# loading the parquet file into a dataframe\n",
        "path = \"/content/gdrive/Shared drives/Cash Eng /ML Infrastructure/05 passion projects/goodcodebadcode/data\"\n",
        "%cd path\n",
        "df = pd.read_parquet('gcbc_data_all.parquet.gzip')"
      ],
      "execution_count": null,
      "outputs": []
    },
    {
      "cell_type": "code",
      "metadata": {
        "id": "QYcFapszPTXt",
        "colab_type": "code",
        "colab": {
          "base_uri": "https://localhost:8080/",
          "height": 402
        },
        "outputId": "e089f68b-9ea9-4d29-983a-0c11a19271ad"
      },
      "source": [
        "df.rename(columns = {\"Language\": \"label\", \"Content\": \"text\"}, inplace = True)\n",
        "df"
      ],
      "execution_count": 17,
      "outputs": [
        {
          "output_type": "execute_result",
          "data": {
            "text/html": [
              "<div>\n",
              "<style scoped>\n",
              "    .dataframe tbody tr th:only-of-type {\n",
              "        vertical-align: middle;\n",
              "    }\n",
              "\n",
              "    .dataframe tbody tr th {\n",
              "        vertical-align: top;\n",
              "    }\n",
              "\n",
              "    .dataframe thead th {\n",
              "        text-align: right;\n",
              "    }\n",
              "</style>\n",
              "<table border=\"1\" class=\"dataframe\">\n",
              "  <thead>\n",
              "    <tr style=\"text-align: right;\">\n",
              "      <th></th>\n",
              "      <th>label</th>\n",
              "      <th>text</th>\n",
              "    </tr>\n",
              "  </thead>\n",
              "  <tbody>\n",
              "    <tr>\n",
              "      <th>0</th>\n",
              "      <td>typescript</td>\n",
              "      <td>/**\\n * Internal dependencies\\n */\\nimport con...</td>\n",
              "    </tr>\n",
              "    <tr>\n",
              "      <th>1</th>\n",
              "      <td>typescript</td>\n",
              "      <td>import { produce } from 'immer';\\n\\nimport { m...</td>\n",
              "    </tr>\n",
              "    <tr>\n",
              "      <th>2</th>\n",
              "      <td>typescript</td>\n",
              "      <td>/**\\n * External dependencies\\n */\\nimport typ...</td>\n",
              "    </tr>\n",
              "    <tr>\n",
              "      <th>3</th>\n",
              "      <td>typescript</td>\n",
              "      <td>/**\\n * External Dependencies\\n */\\nimport { R...</td>\n",
              "    </tr>\n",
              "    <tr>\n",
              "      <th>4</th>\n",
              "      <td>typescript</td>\n",
              "      <td>// Local files\\nimport { TitleResponseData, Ca...</td>\n",
              "    </tr>\n",
              "    <tr>\n",
              "      <th>...</th>\n",
              "      <td>...</td>\n",
              "      <td>...</td>\n",
              "    </tr>\n",
              "    <tr>\n",
              "      <th>126919</th>\n",
              "      <td>ruby</td>\n",
              "      <td>require 'cocoapods/user_interface/error_report...</td>\n",
              "    </tr>\n",
              "    <tr>\n",
              "      <th>126920</th>\n",
              "      <td>ruby</td>\n",
              "      <td>require 'active_support/core_ext/hash/indiffer...</td>\n",
              "    </tr>\n",
              "    <tr>\n",
              "      <th>126921</th>\n",
              "      <td>ruby</td>\n",
              "      <td>require 'active_support/core_ext/array'\\nrequi...</td>\n",
              "    </tr>\n",
              "    <tr>\n",
              "      <th>126922</th>\n",
              "      <td>ruby</td>\n",
              "      <td>module Pod\\n  class Resolver\\n    # A small co...</td>\n",
              "    </tr>\n",
              "    <tr>\n",
              "      <th>126923</th>\n",
              "      <td>ruby</td>\n",
              "      <td>require 'delegate'\\nmodule Pod\\n  class Specif...</td>\n",
              "    </tr>\n",
              "  </tbody>\n",
              "</table>\n",
              "<p>126924 rows × 2 columns</p>\n",
              "</div>"
            ],
            "text/plain": [
              "             label                                               text\n",
              "0       typescript  /**\\n * Internal dependencies\\n */\\nimport con...\n",
              "1       typescript  import { produce } from 'immer';\\n\\nimport { m...\n",
              "2       typescript  /**\\n * External dependencies\\n */\\nimport typ...\n",
              "3       typescript  /**\\n * External Dependencies\\n */\\nimport { R...\n",
              "4       typescript  // Local files\\nimport { TitleResponseData, Ca...\n",
              "...            ...                                                ...\n",
              "126919        ruby  require 'cocoapods/user_interface/error_report...\n",
              "126920        ruby  require 'active_support/core_ext/hash/indiffer...\n",
              "126921        ruby  require 'active_support/core_ext/array'\\nrequi...\n",
              "126922        ruby  module Pod\\n  class Resolver\\n    # A small co...\n",
              "126923        ruby  require 'delegate'\\nmodule Pod\\n  class Specif...\n",
              "\n",
              "[126924 rows x 2 columns]"
            ]
          },
          "metadata": {
            "tags": []
          },
          "execution_count": 17
        }
      ]
    },
    {
      "cell_type": "code",
      "metadata": {
        "id": "Pmrn9SmaZMVA",
        "colab_type": "code",
        "colab": {
          "base_uri": "https://localhost:8080/",
          "height": 17
        },
        "outputId": "61bd1302-440a-407c-db50-fdbc7f673709"
      },
      "source": [
        "from sklearn.model_selection import train_test_split\n",
        "train_df, valid_df = train_test_split(df, test_size=0.2)\n",
        "# Language model data\n",
        "data_lm = TextLMDataBunch.from_df(path, train_df = train_df, valid_df = valid_df, test_df = None, label_cols = 0, text_cols = [\"text\"], no_check = True)"
      ],
      "execution_count": 18,
      "outputs": [
        {
          "output_type": "display_data",
          "data": {
            "text/html": [
              ""
            ],
            "text/plain": [
              "<IPython.core.display.HTML object>"
            ]
          },
          "metadata": {
            "tags": []
          }
        },
        {
          "output_type": "display_data",
          "data": {
            "text/html": [
              ""
            ],
            "text/plain": [
              "<IPython.core.display.HTML object>"
            ]
          },
          "metadata": {
            "tags": []
          }
        }
      ]
    },
    {
      "cell_type": "code",
      "metadata": {
        "id": "C4uxzD6vZKJ-",
        "colab_type": "code",
        "colab": {
          "base_uri": "https://localhost:8080/",
          "height": 17
        },
        "outputId": "aeb57445-f6b6-49e7-d0d5-a97b1b615c2f"
      },
      "source": [
        "# Classifier model data\n",
        "data_clas = TextClasDataBunch.from_df(path, train_df=train_df, valid_df=valid_df, vocab=data_lm.train_ds.vocab, bs=32)"
      ],
      "execution_count": 20,
      "outputs": [
        {
          "output_type": "display_data",
          "data": {
            "text/html": [
              ""
            ],
            "text/plain": [
              "<IPython.core.display.HTML object>"
            ]
          },
          "metadata": {
            "tags": []
          }
        },
        {
          "output_type": "display_data",
          "data": {
            "text/html": [
              ""
            ],
            "text/plain": [
              "<IPython.core.display.HTML object>"
            ]
          },
          "metadata": {
            "tags": []
          }
        }
      ]
    },
    {
      "cell_type": "markdown",
      "metadata": {
        "id": "Rnu1NnXk_9TX",
        "colab_type": "text"
      },
      "source": [
        "Since this step can be a bit time-consuming, it's best to save the result with below command, this will create a 'tmp' directory where all the computed stuff will be stored."
      ]
    },
    {
      "cell_type": "code",
      "metadata": {
        "id": "JpneANW8YzBh",
        "colab_type": "code",
        "colab": {}
      },
      "source": [
        "data_lm.save('data_lm_export.pkl')\n",
        "data_clas.save('data_clas_export.pkl')"
      ],
      "execution_count": 22,
      "outputs": []
    },
    {
      "cell_type": "markdown",
      "metadata": {
        "id": "hMubzPxNACdJ",
        "colab_type": "text"
      },
      "source": [
        "We can then reload those results with:"
      ]
    },
    {
      "cell_type": "code",
      "metadata": {
        "id": "sngkZdEuYz2U",
        "colab_type": "code",
        "colab": {}
      },
      "source": [
        "data_lm = load_data(path, 'data_lm_export.pkl')\n",
        "data_clas = load_data(path, 'data_clas_export.pkl', bs=16)"
      ],
      "execution_count": 23,
      "outputs": []
    },
    {
      "cell_type": "markdown",
      "metadata": {
        "id": "n9JpdjemX7SS",
        "colab_type": "text"
      },
      "source": [
        "### Fine-tuning a language model"
      ]
    },
    {
      "cell_type": "code",
      "metadata": {
        "id": "sMUwMRYAY0FK",
        "colab_type": "code",
        "colab": {
          "base_uri": "https://localhost:8080/",
          "height": 110
        },
        "outputId": "a11bdfda-b211-4722-b66e-e1f08f08641d"
      },
      "source": [
        "learn = language_model_learner(data_lm, AWD_LSTM, drop_mult=0.5)\n",
        "learn.fit_one_cycle(1, 1e-2)"
      ],
      "execution_count": null,
      "outputs": [
        {
          "output_type": "stream",
          "text": [
            "Downloading https://s3.amazonaws.com/fast-ai-modelzoo/wt103-fwd.tgz\n"
          ],
          "name": "stdout"
        },
        {
          "output_type": "display_data",
          "data": {
            "text/html": [
              ""
            ],
            "text/plain": [
              "<IPython.core.display.HTML object>"
            ]
          },
          "metadata": {
            "tags": []
          }
        },
        {
          "output_type": "display_data",
          "data": {
            "text/html": [
              "\n",
              "    <div>\n",
              "        <style>\n",
              "            /* Turns off some styling */\n",
              "            progress {\n",
              "                /* gets rid of default border in Firefox and Opera. */\n",
              "                border: none;\n",
              "                /* Needs to be in here for Safari polyfill so background images work as expected. */\n",
              "                background-size: auto;\n",
              "            }\n",
              "            .progress-bar-interrupted, .progress-bar-interrupted::-webkit-progress-bar {\n",
              "                background: #F44336;\n",
              "            }\n",
              "        </style>\n",
              "      <progress value='0' class='' max='1' style='width:300px; height:20px; vertical-align: middle;'></progress>\n",
              "      0.00% [0/1 00:00<00:00]\n",
              "    </div>\n",
              "    \n",
              "<table border=\"1\" class=\"dataframe\">\n",
              "  <thead>\n",
              "    <tr style=\"text-align: left;\">\n",
              "      <th>epoch</th>\n",
              "      <th>train_loss</th>\n",
              "      <th>valid_loss</th>\n",
              "      <th>accuracy</th>\n",
              "      <th>time</th>\n",
              "    </tr>\n",
              "  </thead>\n",
              "  <tbody>\n",
              "  </tbody>\n",
              "</table><p>\n",
              "\n",
              "    <div>\n",
              "        <style>\n",
              "            /* Turns off some styling */\n",
              "            progress {\n",
              "                /* gets rid of default border in Firefox and Opera. */\n",
              "                border: none;\n",
              "                /* Needs to be in here for Safari polyfill so background images work as expected. */\n",
              "                background-size: auto;\n",
              "            }\n",
              "            .progress-bar-interrupted, .progress-bar-interrupted::-webkit-progress-bar {\n",
              "                background: #F44336;\n",
              "            }\n",
              "        </style>\n",
              "      <progress value='1665' class='' max='4262' style='width:300px; height:20px; vertical-align: middle;'></progress>\n",
              "      39.07% [1665/4262 04:01<06:16]\n",
              "    </div>\n",
              "    "
            ],
            "text/plain": [
              "<IPython.core.display.HTML object>"
            ]
          },
          "metadata": {
            "tags": []
          }
        }
      ]
    },
    {
      "cell_type": "code",
      "metadata": {
        "id": "7qPC2OtsY0R3",
        "colab_type": "code",
        "colab": {}
      },
      "source": [
        "learn.unfreeze()\n",
        "learn.fit_one_cycle(1, 1e-3)"
      ],
      "execution_count": null,
      "outputs": []
    },
    {
      "cell_type": "markdown",
      "metadata": {
        "id": "hcJ7Wf3qaFsK",
        "colab_type": "text"
      },
      "source": [
        "To evaluate your language model, you can run the Learner.predict method and specify the number of words you want it to guess."
      ]
    },
    {
      "cell_type": "code",
      "metadata": {
        "id": "GhSuBYXJY0dc",
        "colab_type": "code",
        "colab": {}
      },
      "source": [
        "learn.predict(\"fun sum(a: Int, b: Int)\", n_words=5)"
      ],
      "execution_count": null,
      "outputs": []
    },
    {
      "cell_type": "markdown",
      "metadata": {
        "id": "zQ9RjmfEbRCD",
        "colab_type": "text"
      },
      "source": [
        "Note that it understands the voacb which comes from the pretrained language model.\n",
        "\n",
        "Finally we save the encoder to be able to use it for classification in the next section."
      ]
    },
    {
      "cell_type": "code",
      "metadata": {
        "id": "0qMhcogfY0pY",
        "colab_type": "code",
        "colab": {}
      },
      "source": [
        "learn.save_encoder('ft_enc')"
      ],
      "execution_count": null,
      "outputs": []
    },
    {
      "cell_type": "markdown",
      "metadata": {
        "id": "MZAhUfbf0cOU",
        "colab_type": "text"
      },
      "source": [
        "### Building a classifier"
      ]
    },
    {
      "cell_type": "markdown",
      "metadata": {
        "id": "SgrJ-GGx1MYy",
        "colab_type": "text"
      },
      "source": [
        "We now use the data_clas object we created earlier to build a classifier with our fine-tuned encoder. The learner object can be done in a single line."
      ]
    },
    {
      "cell_type": "code",
      "metadata": {
        "id": "E4gPi73R0bg0",
        "colab_type": "code",
        "colab": {}
      },
      "source": [
        "learn = text_classifier_learner(data_clas, AWD_LSTM, drop_mult=0.5)\n",
        "learn.load_encoder('ft_enc')"
      ],
      "execution_count": null,
      "outputs": []
    },
    {
      "cell_type": "code",
      "metadata": {
        "id": "vxXhwoCF0bdH",
        "colab_type": "code",
        "colab": {}
      },
      "source": [
        "data_clas.show_batch()"
      ],
      "execution_count": null,
      "outputs": []
    },
    {
      "cell_type": "code",
      "metadata": {
        "id": "6gGLa3xg0bZv",
        "colab_type": "code",
        "colab": {}
      },
      "source": [
        "learn.fit_one_cycle(1, 1e-2)"
      ],
      "execution_count": null,
      "outputs": []
    },
    {
      "cell_type": "markdown",
      "metadata": {
        "id": "bMMYFYqc1YNT",
        "colab_type": "text"
      },
      "source": [
        "We are unfreezing the last two modules and fine tuning it"
      ]
    },
    {
      "cell_type": "code",
      "metadata": {
        "id": "5wyRANlN0bXZ",
        "colab_type": "code",
        "colab": {}
      },
      "source": [
        "learn.freeze_to(-2)\n",
        "learn.fit_one_cycle(1, slice(5e-3/2., 5e-3))"
      ],
      "execution_count": null,
      "outputs": []
    },
    {
      "cell_type": "markdown",
      "metadata": {
        "id": "gHT8a46l2FZw",
        "colab_type": "text"
      },
      "source": [
        "Unfreezing all of it and fine tuning again"
      ]
    },
    {
      "cell_type": "code",
      "metadata": {
        "id": "CJMDIvb90bUI",
        "colab_type": "code",
        "colab": {}
      },
      "source": [
        "learn.unfreeze()\n",
        "learn.fit_one_cycle(1, slice(2e-3/100, 2e-3))"
      ],
      "execution_count": null,
      "outputs": []
    },
    {
      "cell_type": "markdown",
      "metadata": {
        "id": "4DeVFPCc2RCH",
        "colab_type": "text"
      },
      "source": [
        "We can now try predicting using raw data"
      ]
    },
    {
      "cell_type": "code",
      "metadata": {
        "id": "PGYAyfdM0bRA",
        "colab_type": "code",
        "colab": {}
      },
      "source": [
        "learn.predict(\"fun sum(a: Int, b: Int): Int { return a + b }\")"
      ],
      "execution_count": null,
      "outputs": []
    }
  ]
}